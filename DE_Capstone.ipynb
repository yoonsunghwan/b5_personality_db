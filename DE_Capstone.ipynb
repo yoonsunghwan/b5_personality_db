{
 "cells": [
  {
   "cell_type": "markdown",
   "metadata": {},
   "source": [
    "# Big Five Personality \n",
    "### Data Engineering Capstone Project\n",
    "\n",
    "**Summary:**\n",
    "Database that will be used to access differences in traits across different countries."
   ]
  },
  {
   "cell_type": "code",
   "execution_count": 1,
   "metadata": {},
   "outputs": [],
   "source": [
    "#imports and installs here\n",
    "import sqlite3\n",
    "import pandas as pd\n",
    "import missingno as msno\n",
    "import numpy as np\n",
    "from datetime import datetime\n",
    "from pyspark.sql import SparkSession\n",
    "from pyspark.sql.functions import col, monotonically_increasing_id\n",
    "from IPython.display import Image"
   ]
  },
  {
   "cell_type": "markdown",
   "metadata": {},
   "source": [
    "# Content\n",
    "1. [<h2>The Data Sources</h2>](#datasources)  \n",
    "2. [<h2>Cleaning the Data and Viewing the Data</h2>](#explore)  \n",
    "3. [<h2>The DataBase Schema</h2>](#define)\n",
    "4. [<h2>Extract, Transform, Load</h2>](#etl)\n",
    "5. [<h2>Data Quality Issues </h2>](#dq)\n",
    "6. [<h2>Data Dictionary </h2>](#dictionary)\n",
    "7. [<h2>Rationale</h2>](#rationale)"
   ]
  },
  {
   "cell_type": "markdown",
   "metadata": {},
   "source": [
    "<a id = 'datasources'></a>\n",
    "## 1. The Data Sources \n",
    "1. **[Weather](#weather1)**\n",
    "    * Source: https://www.kaggle.com/berkeleyearth/climate-change-earth-surface-temperature-data\n",
    "    * File format = csv  \n",
    "    \n",
    "    \n",
    "2. **[Global Domestic Product per Capita](#gdp1)**  \n",
    "    * Source: https://data.worldbank.org/\n",
    "    * File format = xlsx   \n",
    "    \n",
    "    \n",
    "3. **[Big Five Personality](#b5_1)**\n",
    "    * Source: https://openpsychometrics.org/_rawdata/\n",
    "    * File format = csv  \n",
    "    \n",
    "    \n",
    "4. **[Country Codes](#cc1)**\n",
    "    * Source: https://www.iban.com/country-codes\n",
    "    * File format = html"
   ]
  },
  {
   "cell_type": "markdown",
   "metadata": {},
   "source": [
    "**Weather data from kaggle.com of the weather from 1700's to 2013** \n",
    "<a id ='weather1'/>"
   ]
  },
  {
   "cell_type": "code",
   "execution_count": 2,
   "metadata": {},
   "outputs": [],
   "source": [
    "weather_df = pd.read_csv(\"GlobalLandTemperaturesByCity.csv\")"
   ]
  },
  {
   "cell_type": "markdown",
   "metadata": {},
   "source": [
    "**GDP per capita data for all coountries from 1960 to present day** <a id ='gdp1'/> "
   ]
  },
  {
   "cell_type": "code",
   "execution_count": 3,
   "metadata": {},
   "outputs": [],
   "source": [
    "gdp_df = pd.read_excel(\"Data_Extract_From_World_Development_Indicators.xlsx\")\n"
   ]
  },
  {
   "cell_type": "markdown",
   "metadata": {},
   "source": [
    "**Big 5 personality data from psychometrics website** <a id ='b5_1'/>"
   ]
  },
  {
   "cell_type": "code",
   "execution_count": 4,
   "metadata": {},
   "outputs": [],
   "source": [
    "def create_spark_session():\n",
    "    spark = SparkSession \\\n",
    "        .builder \\\n",
    "        .getOrCreate()\n",
    "    return spark"
   ]
  },
  {
   "cell_type": "code",
   "execution_count": 5,
   "metadata": {},
   "outputs": [],
   "source": [
    "spark = create_spark_session()"
   ]
  },
  {
   "cell_type": "code",
   "execution_count": 6,
   "metadata": {},
   "outputs": [],
   "source": [
    "b5_df = spark.read.format('csv').option(\"header\", \"true\").option('delimiter','\\t').load(\"IPIP_FFM_DATA.csv\")"
   ]
  },
  {
   "cell_type": "markdown",
   "metadata": {},
   "source": [
    "**Scraped Country codes from https://www.iban.com/country-codes** <a id = 'cc1'/>"
   ]
  },
  {
   "cell_type": "code",
   "execution_count": 7,
   "metadata": {},
   "outputs": [],
   "source": [
    "import requests as re\n",
    "from bs4 import BeautifulSoup"
   ]
  },
  {
   "cell_type": "code",
   "execution_count": 8,
   "metadata": {},
   "outputs": [],
   "source": [
    "country_codes_url = 'https://www.iban.com/country-codes'\n",
    "soup = BeautifulSoup(re.get(country_codes_url).text)\n",
    "\n",
    "table = soup.find_all('tr')\n",
    "country_codes = []\n",
    "for rows in table:\n",
    "    country_codes.append(rows.get_text().split('\\n')[1:-1])\n",
    "    \n",
    "cc_df = pd.DataFrame(country_codes)\n",
    "cc_df = cc_df.rename(columns=cc_df.iloc[0])[1:]"
   ]
  },
  {
   "cell_type": "code",
   "execution_count": 9,
   "metadata": {},
   "outputs": [
    {
     "data": {
      "text/html": [
       "<div>\n",
       "<style scoped>\n",
       "    .dataframe tbody tr th:only-of-type {\n",
       "        vertical-align: middle;\n",
       "    }\n",
       "\n",
       "    .dataframe tbody tr th {\n",
       "        vertical-align: top;\n",
       "    }\n",
       "\n",
       "    .dataframe thead th {\n",
       "        text-align: right;\n",
       "    }\n",
       "</style>\n",
       "<table border=\"1\" class=\"dataframe\">\n",
       "  <thead>\n",
       "    <tr style=\"text-align: right;\">\n",
       "      <th></th>\n",
       "      <th>Country</th>\n",
       "      <th>Alpha-2 code</th>\n",
       "      <th>Alpha-3 code</th>\n",
       "      <th>Numeric</th>\n",
       "    </tr>\n",
       "  </thead>\n",
       "  <tbody>\n",
       "    <tr>\n",
       "      <th>1</th>\n",
       "      <td>Afghanistan</td>\n",
       "      <td>AF</td>\n",
       "      <td>AFG</td>\n",
       "      <td>004</td>\n",
       "    </tr>\n",
       "    <tr>\n",
       "      <th>2</th>\n",
       "      <td>Åland Islands</td>\n",
       "      <td>AX</td>\n",
       "      <td>ALA</td>\n",
       "      <td>248</td>\n",
       "    </tr>\n",
       "    <tr>\n",
       "      <th>3</th>\n",
       "      <td>Albania</td>\n",
       "      <td>AL</td>\n",
       "      <td>ALB</td>\n",
       "      <td>008</td>\n",
       "    </tr>\n",
       "    <tr>\n",
       "      <th>4</th>\n",
       "      <td>Algeria</td>\n",
       "      <td>DZ</td>\n",
       "      <td>DZA</td>\n",
       "      <td>012</td>\n",
       "    </tr>\n",
       "    <tr>\n",
       "      <th>5</th>\n",
       "      <td>American Samoa</td>\n",
       "      <td>AS</td>\n",
       "      <td>ASM</td>\n",
       "      <td>016</td>\n",
       "    </tr>\n",
       "  </tbody>\n",
       "</table>\n",
       "</div>"
      ],
      "text/plain": [
       "          Country Alpha-2 code Alpha-3 code Numeric\n",
       "1     Afghanistan           AF          AFG     004\n",
       "2   Åland Islands           AX          ALA     248\n",
       "3         Albania           AL          ALB     008\n",
       "4         Algeria           DZ          DZA     012\n",
       "5  American Samoa           AS          ASM     016"
      ]
     },
     "execution_count": 9,
     "metadata": {},
     "output_type": "execute_result"
    }
   ],
   "source": [
    "cc_df.head()"
   ]
  },
  {
   "cell_type": "markdown",
   "metadata": {},
   "source": [
    "## 2: Exploring and Assessing the Data <a id ='explore'></a>\n",
    "> Identify data quality issues, like missing values, duplicate data, etc.  \n",
    "> Document steps necessary to clean the data  \n",
    "\n",
    "1. [Weather](#weather2)\n",
    "2. [GDP](#gdp2)\n",
    "3. [Big 5 Personalities](#b5_2)  \n",
    "4. [Country Codes](#cc2)"
   ]
  },
  {
   "cell_type": "markdown",
   "metadata": {},
   "source": [
    "<a id = 'weather2'></a>\n",
    "**View/Clean Weather**"
   ]
  },
  {
   "cell_type": "code",
   "execution_count": 10,
   "metadata": {},
   "outputs": [
    {
     "data": {
      "text/plain": [
       "(8599212, 7)"
      ]
     },
     "execution_count": 10,
     "metadata": {},
     "output_type": "execute_result"
    }
   ],
   "source": [
    "weather_df.shape"
   ]
  },
  {
   "cell_type": "code",
   "execution_count": 11,
   "metadata": {},
   "outputs": [
    {
     "data": {
      "text/html": [
       "<div>\n",
       "<style scoped>\n",
       "    .dataframe tbody tr th:only-of-type {\n",
       "        vertical-align: middle;\n",
       "    }\n",
       "\n",
       "    .dataframe tbody tr th {\n",
       "        vertical-align: top;\n",
       "    }\n",
       "\n",
       "    .dataframe thead th {\n",
       "        text-align: right;\n",
       "    }\n",
       "</style>\n",
       "<table border=\"1\" class=\"dataframe\">\n",
       "  <thead>\n",
       "    <tr style=\"text-align: right;\">\n",
       "      <th></th>\n",
       "      <th>dt</th>\n",
       "      <th>AverageTemperature</th>\n",
       "      <th>AverageTemperatureUncertainty</th>\n",
       "      <th>City</th>\n",
       "      <th>Country</th>\n",
       "      <th>Latitude</th>\n",
       "      <th>Longitude</th>\n",
       "    </tr>\n",
       "  </thead>\n",
       "  <tbody>\n",
       "    <tr>\n",
       "      <th>0</th>\n",
       "      <td>1743-11-01</td>\n",
       "      <td>6.068</td>\n",
       "      <td>1.737</td>\n",
       "      <td>Århus</td>\n",
       "      <td>Denmark</td>\n",
       "      <td>57.05N</td>\n",
       "      <td>10.33E</td>\n",
       "    </tr>\n",
       "    <tr>\n",
       "      <th>1</th>\n",
       "      <td>1743-12-01</td>\n",
       "      <td>NaN</td>\n",
       "      <td>NaN</td>\n",
       "      <td>Århus</td>\n",
       "      <td>Denmark</td>\n",
       "      <td>57.05N</td>\n",
       "      <td>10.33E</td>\n",
       "    </tr>\n",
       "    <tr>\n",
       "      <th>2</th>\n",
       "      <td>1744-01-01</td>\n",
       "      <td>NaN</td>\n",
       "      <td>NaN</td>\n",
       "      <td>Århus</td>\n",
       "      <td>Denmark</td>\n",
       "      <td>57.05N</td>\n",
       "      <td>10.33E</td>\n",
       "    </tr>\n",
       "    <tr>\n",
       "      <th>3</th>\n",
       "      <td>1744-02-01</td>\n",
       "      <td>NaN</td>\n",
       "      <td>NaN</td>\n",
       "      <td>Århus</td>\n",
       "      <td>Denmark</td>\n",
       "      <td>57.05N</td>\n",
       "      <td>10.33E</td>\n",
       "    </tr>\n",
       "    <tr>\n",
       "      <th>4</th>\n",
       "      <td>1744-03-01</td>\n",
       "      <td>NaN</td>\n",
       "      <td>NaN</td>\n",
       "      <td>Århus</td>\n",
       "      <td>Denmark</td>\n",
       "      <td>57.05N</td>\n",
       "      <td>10.33E</td>\n",
       "    </tr>\n",
       "  </tbody>\n",
       "</table>\n",
       "</div>"
      ],
      "text/plain": [
       "           dt  AverageTemperature  AverageTemperatureUncertainty   City  \\\n",
       "0  1743-11-01               6.068                          1.737  Århus   \n",
       "1  1743-12-01                 NaN                            NaN  Århus   \n",
       "2  1744-01-01                 NaN                            NaN  Århus   \n",
       "3  1744-02-01                 NaN                            NaN  Århus   \n",
       "4  1744-03-01                 NaN                            NaN  Århus   \n",
       "\n",
       "   Country Latitude Longitude  \n",
       "0  Denmark   57.05N    10.33E  \n",
       "1  Denmark   57.05N    10.33E  \n",
       "2  Denmark   57.05N    10.33E  \n",
       "3  Denmark   57.05N    10.33E  \n",
       "4  Denmark   57.05N    10.33E  "
      ]
     },
     "execution_count": 11,
     "metadata": {},
     "output_type": "execute_result"
    }
   ],
   "source": [
    "weather_df.head()"
   ]
  },
  {
   "cell_type": "code",
   "execution_count": 12,
   "metadata": {},
   "outputs": [
    {
     "name": "stdout",
     "output_type": "stream",
     "text": [
      "<class 'pandas.core.frame.DataFrame'>\n",
      "RangeIndex: 8599212 entries, 0 to 8599211\n",
      "Data columns (total 7 columns):\n",
      " #   Column                         Dtype  \n",
      "---  ------                         -----  \n",
      " 0   dt                             object \n",
      " 1   AverageTemperature             float64\n",
      " 2   AverageTemperatureUncertainty  float64\n",
      " 3   City                           object \n",
      " 4   Country                        object \n",
      " 5   Latitude                       object \n",
      " 6   Longitude                      object \n",
      "dtypes: float64(2), object(5)\n",
      "memory usage: 459.2+ MB\n"
     ]
    }
   ],
   "source": [
    "weather_df.info()"
   ]
  },
  {
   "cell_type": "code",
   "execution_count": 13,
   "metadata": {},
   "outputs": [],
   "source": [
    "# change dt from object to pandas date\n",
    "weather_df['dt'] = pd.to_datetime(weather_df['dt'])"
   ]
  },
  {
   "cell_type": "code",
   "execution_count": 14,
   "metadata": {},
   "outputs": [
    {
     "data": {
      "text/plain": [
       "<matplotlib.axes._subplots.AxesSubplot at 0x7efe9ac4b340>"
      ]
     },
     "execution_count": 14,
     "metadata": {},
     "output_type": "execute_result"
    },
    {
     "data": {
      "image/png": "[encoded data removed]",
      "text/plain": [
       "<Figure size 1800x720 with 2 Axes>"
      ]
     },
     "metadata": {
      "needs_background": "light"
     },
     "output_type": "display_data"
    }
   ],
   "source": [
    "msno.matrix(weather_df)"
   ]
  },
  {
   "cell_type": "code",
   "execution_count": 15,
   "metadata": {},
   "outputs": [],
   "source": [
    "missing_weather_values = weather_df[weather_df.isnull().any(axis = 1)]"
   ]
  },
  {
   "cell_type": "code",
   "execution_count": 16,
   "metadata": {},
   "outputs": [
    {
     "name": "stdout",
     "output_type": "stream",
     "text": [
      "Missing records successfully dropped, there are now 8235082 records in weather_df\n"
     ]
    }
   ],
   "source": [
    "#Before dropping lets see what our data should look like if we drop all na values\n",
    "number_records_no_missing = weather_df.shape[0] - missing_weather_values.shape[0]\n",
    "weather_df.dropna(inplace = True)\n",
    "if number_records_no_missing == weather_df.shape[0]:\n",
    "    print(f'Missing records successfully dropped, there are now {weather_df.shape[0]} records in weather_df')\n",
    "else:\n",
    "    print('Not all missing records were dropped')"
   ]
  },
  {
   "cell_type": "code",
   "execution_count": 17,
   "metadata": {},
   "outputs": [
    {
     "name": "stdout",
     "output_type": "stream",
     "text": [
      "There are 0 duplicated rows\n"
     ]
    }
   ],
   "source": [
    "num_duplicated = len(weather_df[weather_df.duplicated()].index)\n",
    "print(f\"There are {num_duplicated} duplicated rows\")"
   ]
  },
  {
   "cell_type": "code",
   "execution_count": 18,
   "metadata": {},
   "outputs": [],
   "source": [
    "#reset the index\n",
    "weather_df.reset_index(inplace = True,drop = True)"
   ]
  },
  {
   "cell_type": "markdown",
   "metadata": {},
   "source": [
    "<a id='gdp2'></a>\n",
    "**View/Clean GDP**"
   ]
  },
  {
   "cell_type": "code",
   "execution_count": 19,
   "metadata": {},
   "outputs": [
    {
     "data": {
      "text/html": [
       "<div>\n",
       "<style scoped>\n",
       "    .dataframe tbody tr th:only-of-type {\n",
       "        vertical-align: middle;\n",
       "    }\n",
       "\n",
       "    .dataframe tbody tr th {\n",
       "        vertical-align: top;\n",
       "    }\n",
       "\n",
       "    .dataframe thead th {\n",
       "        text-align: right;\n",
       "    }\n",
       "</style>\n",
       "<table border=\"1\" class=\"dataframe\">\n",
       "  <thead>\n",
       "    <tr style=\"text-align: right;\">\n",
       "      <th></th>\n",
       "      <th>Country Name</th>\n",
       "      <th>Country Code</th>\n",
       "      <th>Series Name</th>\n",
       "      <th>Series Code</th>\n",
       "      <th>1960 [YR1960]</th>\n",
       "      <th>1961 [YR1961]</th>\n",
       "      <th>1962 [YR1962]</th>\n",
       "      <th>1963 [YR1963]</th>\n",
       "      <th>1964 [YR1964]</th>\n",
       "      <th>1965 [YR1965]</th>\n",
       "      <th>...</th>\n",
       "      <th>2011 [YR2011]</th>\n",
       "      <th>2012 [YR2012]</th>\n",
       "      <th>2013 [YR2013]</th>\n",
       "      <th>2014 [YR2014]</th>\n",
       "      <th>2015 [YR2015]</th>\n",
       "      <th>2016 [YR2016]</th>\n",
       "      <th>2017 [YR2017]</th>\n",
       "      <th>2018 [YR2018]</th>\n",
       "      <th>2019 [YR2019]</th>\n",
       "      <th>2020 [YR2020]</th>\n",
       "    </tr>\n",
       "  </thead>\n",
       "  <tbody>\n",
       "    <tr>\n",
       "      <th>0</th>\n",
       "      <td>Afghanistan</td>\n",
       "      <td>AFG</td>\n",
       "      <td>GDP per capita (constant 2010 US$)</td>\n",
       "      <td>NY.GDP.PCAP.KD</td>\n",
       "      <td>..</td>\n",
       "      <td>..</td>\n",
       "      <td>..</td>\n",
       "      <td>..</td>\n",
       "      <td>..</td>\n",
       "      <td>..</td>\n",
       "      <td>...</td>\n",
       "      <td>528.737</td>\n",
       "      <td>576.19</td>\n",
       "      <td>587.565</td>\n",
       "      <td>583.656</td>\n",
       "      <td>574.184</td>\n",
       "      <td>571.074</td>\n",
       "      <td>571.441</td>\n",
       "      <td>564.61</td>\n",
       "      <td>573.288</td>\n",
       "      <td>..</td>\n",
       "    </tr>\n",
       "    <tr>\n",
       "      <th>1</th>\n",
       "      <td>Albania</td>\n",
       "      <td>ALB</td>\n",
       "      <td>GDP per capita (constant 2010 US$)</td>\n",
       "      <td>NY.GDP.PCAP.KD</td>\n",
       "      <td>..</td>\n",
       "      <td>..</td>\n",
       "      <td>..</td>\n",
       "      <td>..</td>\n",
       "      <td>..</td>\n",
       "      <td>..</td>\n",
       "      <td>...</td>\n",
       "      <td>4209.87</td>\n",
       "      <td>4276.61</td>\n",
       "      <td>4327.38</td>\n",
       "      <td>4413.3</td>\n",
       "      <td>4524.37</td>\n",
       "      <td>4681.83</td>\n",
       "      <td>4864.31</td>\n",
       "      <td>5074.86</td>\n",
       "      <td>5210.69</td>\n",
       "      <td>..</td>\n",
       "    </tr>\n",
       "    <tr>\n",
       "      <th>2</th>\n",
       "      <td>Algeria</td>\n",
       "      <td>DZA</td>\n",
       "      <td>GDP per capita (constant 2010 US$)</td>\n",
       "      <td>NY.GDP.PCAP.KD</td>\n",
       "      <td>2480.95</td>\n",
       "      <td>2090.75</td>\n",
       "      <td>1638.22</td>\n",
       "      <td>2146.24</td>\n",
       "      <td>2214.16</td>\n",
       "      <td>2289.91</td>\n",
       "      <td>...</td>\n",
       "      <td>4523.25</td>\n",
       "      <td>4586.66</td>\n",
       "      <td>4621.59</td>\n",
       "      <td>4700.64</td>\n",
       "      <td>4775.87</td>\n",
       "      <td>4828.63</td>\n",
       "      <td>4792.39</td>\n",
       "      <td>4753.51</td>\n",
       "      <td>4699.76</td>\n",
       "      <td>..</td>\n",
       "    </tr>\n",
       "    <tr>\n",
       "      <th>3</th>\n",
       "      <td>American Samoa</td>\n",
       "      <td>ASM</td>\n",
       "      <td>GDP per capita (constant 2010 US$)</td>\n",
       "      <td>NY.GDP.PCAP.KD</td>\n",
       "      <td>..</td>\n",
       "      <td>..</td>\n",
       "      <td>..</td>\n",
       "      <td>..</td>\n",
       "      <td>..</td>\n",
       "      <td>..</td>\n",
       "      <td>...</td>\n",
       "      <td>10360.5</td>\n",
       "      <td>9921.81</td>\n",
       "      <td>9640.34</td>\n",
       "      <td>9717.83</td>\n",
       "      <td>9850.57</td>\n",
       "      <td>9589.98</td>\n",
       "      <td>9048.18</td>\n",
       "      <td>9271.71</td>\n",
       "      <td>..</td>\n",
       "      <td>..</td>\n",
       "    </tr>\n",
       "    <tr>\n",
       "      <th>4</th>\n",
       "      <td>Andorra</td>\n",
       "      <td>AND</td>\n",
       "      <td>GDP per capita (constant 2010 US$)</td>\n",
       "      <td>NY.GDP.PCAP.KD</td>\n",
       "      <td>..</td>\n",
       "      <td>..</td>\n",
       "      <td>..</td>\n",
       "      <td>..</td>\n",
       "      <td>..</td>\n",
       "      <td>..</td>\n",
       "      <td>...</td>\n",
       "      <td>41191.8</td>\n",
       "      <td>39769.6</td>\n",
       "      <td>39143.7</td>\n",
       "      <td>40914.7</td>\n",
       "      <td>42141</td>\n",
       "      <td>44108</td>\n",
       "      <td>44430.7</td>\n",
       "      <td>45133.7</td>\n",
       "      <td>45887.3</td>\n",
       "      <td>..</td>\n",
       "    </tr>\n",
       "  </tbody>\n",
       "</table>\n",
       "<p>5 rows × 65 columns</p>\n",
       "</div>"
      ],
      "text/plain": [
       "     Country Name Country Code                         Series Name  \\\n",
       "0     Afghanistan          AFG  GDP per capita (constant 2010 US$)   \n",
       "1         Albania          ALB  GDP per capita (constant 2010 US$)   \n",
       "2         Algeria          DZA  GDP per capita (constant 2010 US$)   \n",
       "3  American Samoa          ASM  GDP per capita (constant 2010 US$)   \n",
       "4         Andorra          AND  GDP per capita (constant 2010 US$)   \n",
       "\n",
       "      Series Code 1960 [YR1960] 1961 [YR1961] 1962 [YR1962] 1963 [YR1963]  \\\n",
       "0  NY.GDP.PCAP.KD            ..            ..            ..            ..   \n",
       "1  NY.GDP.PCAP.KD            ..            ..            ..            ..   \n",
       "2  NY.GDP.PCAP.KD       2480.95       2090.75       1638.22       2146.24   \n",
       "3  NY.GDP.PCAP.KD            ..            ..            ..            ..   \n",
       "4  NY.GDP.PCAP.KD            ..            ..            ..            ..   \n",
       "\n",
       "  1964 [YR1964] 1965 [YR1965]  ... 2011 [YR2011] 2012 [YR2012] 2013 [YR2013]  \\\n",
       "0            ..            ..  ...       528.737        576.19       587.565   \n",
       "1            ..            ..  ...       4209.87       4276.61       4327.38   \n",
       "2       2214.16       2289.91  ...       4523.25       4586.66       4621.59   \n",
       "3            ..            ..  ...       10360.5       9921.81       9640.34   \n",
       "4            ..            ..  ...       41191.8       39769.6       39143.7   \n",
       "\n",
       "  2014 [YR2014] 2015 [YR2015] 2016 [YR2016] 2017 [YR2017] 2018 [YR2018]  \\\n",
       "0       583.656       574.184       571.074       571.441        564.61   \n",
       "1        4413.3       4524.37       4681.83       4864.31       5074.86   \n",
       "2       4700.64       4775.87       4828.63       4792.39       4753.51   \n",
       "3       9717.83       9850.57       9589.98       9048.18       9271.71   \n",
       "4       40914.7         42141         44108       44430.7       45133.7   \n",
       "\n",
       "  2019 [YR2019] 2020 [YR2020]  \n",
       "0       573.288            ..  \n",
       "1       5210.69            ..  \n",
       "2       4699.76            ..  \n",
       "3            ..            ..  \n",
       "4       45887.3            ..  \n",
       "\n",
       "[5 rows x 65 columns]"
      ]
     },
     "execution_count": 19,
     "metadata": {},
     "output_type": "execute_result"
    }
   ],
   "source": [
    "gdp_df.head()"
   ]
  },
  {
   "cell_type": "code",
   "execution_count": 20,
   "metadata": {},
   "outputs": [],
   "source": [
    "#we do not need 'Series Name','Series Code','Country Code' only country, and gdp\n",
    "gdp_df.drop(['Series Name','Series Code'], axis = 1, inplace = True)"
   ]
  },
  {
   "cell_type": "code",
   "execution_count": 21,
   "metadata": {},
   "outputs": [
    {
     "data": {
      "text/plain": [
       "Index(['Country Name', 'Country Code', '1960 [YR1960]', '1961 [YR1961]',\n",
       "       '1962 [YR1962]', '1963 [YR1963]', '1964 [YR1964]', '1965 [YR1965]',\n",
       "       '1966 [YR1966]', '1967 [YR1967]', '1968 [YR1968]', '1969 [YR1969]',\n",
       "       '1970 [YR1970]', '1971 [YR1971]', '1972 [YR1972]', '1973 [YR1973]',\n",
       "       '1974 [YR1974]', '1975 [YR1975]', '1976 [YR1976]', '1977 [YR1977]',\n",
       "       '1978 [YR1978]', '1979 [YR1979]', '1980 [YR1980]', '1981 [YR1981]',\n",
       "       '1982 [YR1982]', '1983 [YR1983]', '1984 [YR1984]', '1985 [YR1985]',\n",
       "       '1986 [YR1986]', '1987 [YR1987]', '1988 [YR1988]', '1989 [YR1989]',\n",
       "       '1990 [YR1990]', '1991 [YR1991]', '1992 [YR1992]', '1993 [YR1993]',\n",
       "       '1994 [YR1994]', '1995 [YR1995]', '1996 [YR1996]', '1997 [YR1997]',\n",
       "       '1998 [YR1998]', '1999 [YR1999]', '2000 [YR2000]', '2001 [YR2001]',\n",
       "       '2002 [YR2002]', '2003 [YR2003]', '2004 [YR2004]', '2005 [YR2005]',\n",
       "       '2006 [YR2006]', '2007 [YR2007]', '2008 [YR2008]', '2009 [YR2009]',\n",
       "       '2010 [YR2010]', '2011 [YR2011]', '2012 [YR2012]', '2013 [YR2013]',\n",
       "       '2014 [YR2014]', '2015 [YR2015]', '2016 [YR2016]', '2017 [YR2017]',\n",
       "       '2018 [YR2018]', '2019 [YR2019]', '2020 [YR2020]'],\n",
       "      dtype='object')"
      ]
     },
     "execution_count": 21,
     "metadata": {},
     "output_type": "execute_result"
    }
   ],
   "source": [
    "#the three 3 columns above have been successfully dropped\n",
    "gdp_df.columns"
   ]
  },
  {
   "cell_type": "code",
   "execution_count": 22,
   "metadata": {},
   "outputs": [],
   "source": [
    "#drop missing values\n",
    "gdp_df.dropna(inplace = True)"
   ]
  },
  {
   "cell_type": "code",
   "execution_count": 23,
   "metadata": {},
   "outputs": [
    {
     "data": {
      "text/html": [
       "<div>\n",
       "<style scoped>\n",
       "    .dataframe tbody tr th:only-of-type {\n",
       "        vertical-align: middle;\n",
       "    }\n",
       "\n",
       "    .dataframe tbody tr th {\n",
       "        vertical-align: top;\n",
       "    }\n",
       "\n",
       "    .dataframe thead th {\n",
       "        text-align: right;\n",
       "    }\n",
       "</style>\n",
       "<table border=\"1\" class=\"dataframe\">\n",
       "  <thead>\n",
       "    <tr style=\"text-align: right;\">\n",
       "      <th></th>\n",
       "      <th>Country Name</th>\n",
       "      <th>Country Code</th>\n",
       "      <th>1960 [YR1960]</th>\n",
       "      <th>1961 [YR1961]</th>\n",
       "      <th>1962 [YR1962]</th>\n",
       "      <th>1963 [YR1963]</th>\n",
       "      <th>1964 [YR1964]</th>\n",
       "      <th>1965 [YR1965]</th>\n",
       "      <th>1966 [YR1966]</th>\n",
       "      <th>1967 [YR1967]</th>\n",
       "      <th>...</th>\n",
       "      <th>2011 [YR2011]</th>\n",
       "      <th>2012 [YR2012]</th>\n",
       "      <th>2013 [YR2013]</th>\n",
       "      <th>2014 [YR2014]</th>\n",
       "      <th>2015 [YR2015]</th>\n",
       "      <th>2016 [YR2016]</th>\n",
       "      <th>2017 [YR2017]</th>\n",
       "      <th>2018 [YR2018]</th>\n",
       "      <th>2019 [YR2019]</th>\n",
       "      <th>2020 [YR2020]</th>\n",
       "    </tr>\n",
       "  </thead>\n",
       "  <tbody>\n",
       "    <tr>\n",
       "      <th>0</th>\n",
       "      <td>Afghanistan</td>\n",
       "      <td>AFG</td>\n",
       "      <td>..</td>\n",
       "      <td>..</td>\n",
       "      <td>..</td>\n",
       "      <td>..</td>\n",
       "      <td>..</td>\n",
       "      <td>..</td>\n",
       "      <td>..</td>\n",
       "      <td>..</td>\n",
       "      <td>...</td>\n",
       "      <td>528.737</td>\n",
       "      <td>576.19</td>\n",
       "      <td>587.565</td>\n",
       "      <td>583.656</td>\n",
       "      <td>574.184</td>\n",
       "      <td>571.074</td>\n",
       "      <td>571.441</td>\n",
       "      <td>564.61</td>\n",
       "      <td>573.288</td>\n",
       "      <td>..</td>\n",
       "    </tr>\n",
       "    <tr>\n",
       "      <th>1</th>\n",
       "      <td>Albania</td>\n",
       "      <td>ALB</td>\n",
       "      <td>..</td>\n",
       "      <td>..</td>\n",
       "      <td>..</td>\n",
       "      <td>..</td>\n",
       "      <td>..</td>\n",
       "      <td>..</td>\n",
       "      <td>..</td>\n",
       "      <td>..</td>\n",
       "      <td>...</td>\n",
       "      <td>4209.87</td>\n",
       "      <td>4276.61</td>\n",
       "      <td>4327.38</td>\n",
       "      <td>4413.3</td>\n",
       "      <td>4524.37</td>\n",
       "      <td>4681.83</td>\n",
       "      <td>4864.31</td>\n",
       "      <td>5074.86</td>\n",
       "      <td>5210.69</td>\n",
       "      <td>..</td>\n",
       "    </tr>\n",
       "    <tr>\n",
       "      <th>3</th>\n",
       "      <td>American Samoa</td>\n",
       "      <td>ASM</td>\n",
       "      <td>..</td>\n",
       "      <td>..</td>\n",
       "      <td>..</td>\n",
       "      <td>..</td>\n",
       "      <td>..</td>\n",
       "      <td>..</td>\n",
       "      <td>..</td>\n",
       "      <td>..</td>\n",
       "      <td>...</td>\n",
       "      <td>10360.5</td>\n",
       "      <td>9921.81</td>\n",
       "      <td>9640.34</td>\n",
       "      <td>9717.83</td>\n",
       "      <td>9850.57</td>\n",
       "      <td>9589.98</td>\n",
       "      <td>9048.18</td>\n",
       "      <td>9271.71</td>\n",
       "      <td>..</td>\n",
       "      <td>..</td>\n",
       "    </tr>\n",
       "    <tr>\n",
       "      <th>4</th>\n",
       "      <td>Andorra</td>\n",
       "      <td>AND</td>\n",
       "      <td>..</td>\n",
       "      <td>..</td>\n",
       "      <td>..</td>\n",
       "      <td>..</td>\n",
       "      <td>..</td>\n",
       "      <td>..</td>\n",
       "      <td>..</td>\n",
       "      <td>..</td>\n",
       "      <td>...</td>\n",
       "      <td>41191.8</td>\n",
       "      <td>39769.6</td>\n",
       "      <td>39143.7</td>\n",
       "      <td>40914.7</td>\n",
       "      <td>42141</td>\n",
       "      <td>44108</td>\n",
       "      <td>44430.7</td>\n",
       "      <td>45133.7</td>\n",
       "      <td>45887.3</td>\n",
       "      <td>..</td>\n",
       "    </tr>\n",
       "    <tr>\n",
       "      <th>5</th>\n",
       "      <td>Angola</td>\n",
       "      <td>AGO</td>\n",
       "      <td>..</td>\n",
       "      <td>..</td>\n",
       "      <td>..</td>\n",
       "      <td>..</td>\n",
       "      <td>..</td>\n",
       "      <td>..</td>\n",
       "      <td>..</td>\n",
       "      <td>..</td>\n",
       "      <td>...</td>\n",
       "      <td>3579.96</td>\n",
       "      <td>3748.45</td>\n",
       "      <td>3796.88</td>\n",
       "      <td>3843.2</td>\n",
       "      <td>3748.32</td>\n",
       "      <td>3530.31</td>\n",
       "      <td>3409.93</td>\n",
       "      <td>3233.91</td>\n",
       "      <td>3111.16</td>\n",
       "      <td>..</td>\n",
       "    </tr>\n",
       "    <tr>\n",
       "      <th>...</th>\n",
       "      <td>...</td>\n",
       "      <td>...</td>\n",
       "      <td>...</td>\n",
       "      <td>...</td>\n",
       "      <td>...</td>\n",
       "      <td>...</td>\n",
       "      <td>...</td>\n",
       "      <td>...</td>\n",
       "      <td>...</td>\n",
       "      <td>...</td>\n",
       "      <td>...</td>\n",
       "      <td>...</td>\n",
       "      <td>...</td>\n",
       "      <td>...</td>\n",
       "      <td>...</td>\n",
       "      <td>...</td>\n",
       "      <td>...</td>\n",
       "      <td>...</td>\n",
       "      <td>...</td>\n",
       "      <td>...</td>\n",
       "      <td>...</td>\n",
       "    </tr>\n",
       "    <tr>\n",
       "      <th>255</th>\n",
       "      <td>Vanuatu</td>\n",
       "      <td>VUT</td>\n",
       "      <td>..</td>\n",
       "      <td>..</td>\n",
       "      <td>..</td>\n",
       "      <td>..</td>\n",
       "      <td>..</td>\n",
       "      <td>..</td>\n",
       "      <td>..</td>\n",
       "      <td>..</td>\n",
       "      <td>...</td>\n",
       "      <td>2923.42</td>\n",
       "      <td>2893.1</td>\n",
       "      <td>2868.04</td>\n",
       "      <td>2853.48</td>\n",
       "      <td>2781.79</td>\n",
       "      <td>2803.77</td>\n",
       "      <td>2854</td>\n",
       "      <td>2864.83</td>\n",
       "      <td>2887.31</td>\n",
       "      <td>..</td>\n",
       "    </tr>\n",
       "    <tr>\n",
       "      <th>257</th>\n",
       "      <td>Vietnam</td>\n",
       "      <td>VNM</td>\n",
       "      <td>..</td>\n",
       "      <td>..</td>\n",
       "      <td>..</td>\n",
       "      <td>..</td>\n",
       "      <td>..</td>\n",
       "      <td>..</td>\n",
       "      <td>..</td>\n",
       "      <td>..</td>\n",
       "      <td>...</td>\n",
       "      <td>1385.89</td>\n",
       "      <td>1443.49</td>\n",
       "      <td>1505.81</td>\n",
       "      <td>1579.19</td>\n",
       "      <td>1667.17</td>\n",
       "      <td>1752.53</td>\n",
       "      <td>1852.96</td>\n",
       "      <td>1964.48</td>\n",
       "      <td>2082.24</td>\n",
       "      <td>..</td>\n",
       "    </tr>\n",
       "    <tr>\n",
       "      <th>258</th>\n",
       "      <td>Virgin Islands (U.S.)</td>\n",
       "      <td>VIR</td>\n",
       "      <td>..</td>\n",
       "      <td>..</td>\n",
       "      <td>..</td>\n",
       "      <td>..</td>\n",
       "      <td>..</td>\n",
       "      <td>..</td>\n",
       "      <td>..</td>\n",
       "      <td>..</td>\n",
       "      <td>...</td>\n",
       "      <td>36798.7</td>\n",
       "      <td>31301</td>\n",
       "      <td>29516</td>\n",
       "      <td>29303.7</td>\n",
       "      <td>29408.1</td>\n",
       "      <td>29729.2</td>\n",
       "      <td>29290.8</td>\n",
       "      <td>..</td>\n",
       "      <td>..</td>\n",
       "      <td>..</td>\n",
       "    </tr>\n",
       "    <tr>\n",
       "      <th>259</th>\n",
       "      <td>West Bank and Gaza</td>\n",
       "      <td>PSE</td>\n",
       "      <td>..</td>\n",
       "      <td>..</td>\n",
       "      <td>..</td>\n",
       "      <td>..</td>\n",
       "      <td>..</td>\n",
       "      <td>..</td>\n",
       "      <td>..</td>\n",
       "      <td>..</td>\n",
       "      <td>...</td>\n",
       "      <td>2732.69</td>\n",
       "      <td>2828.62</td>\n",
       "      <td>2891.27</td>\n",
       "      <td>2819.82</td>\n",
       "      <td>2858.53</td>\n",
       "      <td>3042.81</td>\n",
       "      <td>3025.23</td>\n",
       "      <td>2985.76</td>\n",
       "      <td>2939.33</td>\n",
       "      <td>..</td>\n",
       "    </tr>\n",
       "    <tr>\n",
       "      <th>261</th>\n",
       "      <td>Yemen, Rep.</td>\n",
       "      <td>YEM</td>\n",
       "      <td>..</td>\n",
       "      <td>..</td>\n",
       "      <td>..</td>\n",
       "      <td>..</td>\n",
       "      <td>..</td>\n",
       "      <td>..</td>\n",
       "      <td>..</td>\n",
       "      <td>..</td>\n",
       "      <td>...</td>\n",
       "      <td>1133.13</td>\n",
       "      <td>1128.69</td>\n",
       "      <td>1151.42</td>\n",
       "      <td>1119.15</td>\n",
       "      <td>785.338</td>\n",
       "      <td>694.152</td>\n",
       "      <td>643.164</td>\n",
       "      <td>632.909</td>\n",
       "      <td>631.488</td>\n",
       "      <td>..</td>\n",
       "    </tr>\n",
       "  </tbody>\n",
       "</table>\n",
       "<p>144 rows × 63 columns</p>\n",
       "</div>"
      ],
      "text/plain": [
       "              Country Name Country Code 1960 [YR1960] 1961 [YR1961]  \\\n",
       "0              Afghanistan          AFG            ..            ..   \n",
       "1                  Albania          ALB            ..            ..   \n",
       "3           American Samoa          ASM            ..            ..   \n",
       "4                  Andorra          AND            ..            ..   \n",
       "5                   Angola          AGO            ..            ..   \n",
       "..                     ...          ...           ...           ...   \n",
       "255                Vanuatu          VUT            ..            ..   \n",
       "257                Vietnam          VNM            ..            ..   \n",
       "258  Virgin Islands (U.S.)          VIR            ..            ..   \n",
       "259     West Bank and Gaza          PSE            ..            ..   \n",
       "261            Yemen, Rep.          YEM            ..            ..   \n",
       "\n",
       "    1962 [YR1962] 1963 [YR1963] 1964 [YR1964] 1965 [YR1965] 1966 [YR1966]  \\\n",
       "0              ..            ..            ..            ..            ..   \n",
       "1              ..            ..            ..            ..            ..   \n",
       "3              ..            ..            ..            ..            ..   \n",
       "4              ..            ..            ..            ..            ..   \n",
       "5              ..            ..            ..            ..            ..   \n",
       "..            ...           ...           ...           ...           ...   \n",
       "255            ..            ..            ..            ..            ..   \n",
       "257            ..            ..            ..            ..            ..   \n",
       "258            ..            ..            ..            ..            ..   \n",
       "259            ..            ..            ..            ..            ..   \n",
       "261            ..            ..            ..            ..            ..   \n",
       "\n",
       "    1967 [YR1967]  ... 2011 [YR2011] 2012 [YR2012] 2013 [YR2013]  \\\n",
       "0              ..  ...       528.737        576.19       587.565   \n",
       "1              ..  ...       4209.87       4276.61       4327.38   \n",
       "3              ..  ...       10360.5       9921.81       9640.34   \n",
       "4              ..  ...       41191.8       39769.6       39143.7   \n",
       "5              ..  ...       3579.96       3748.45       3796.88   \n",
       "..            ...  ...           ...           ...           ...   \n",
       "255            ..  ...       2923.42        2893.1       2868.04   \n",
       "257            ..  ...       1385.89       1443.49       1505.81   \n",
       "258            ..  ...       36798.7         31301         29516   \n",
       "259            ..  ...       2732.69       2828.62       2891.27   \n",
       "261            ..  ...       1133.13       1128.69       1151.42   \n",
       "\n",
       "    2014 [YR2014] 2015 [YR2015] 2016 [YR2016] 2017 [YR2017] 2018 [YR2018]  \\\n",
       "0         583.656       574.184       571.074       571.441        564.61   \n",
       "1          4413.3       4524.37       4681.83       4864.31       5074.86   \n",
       "3         9717.83       9850.57       9589.98       9048.18       9271.71   \n",
       "4         40914.7         42141         44108       44430.7       45133.7   \n",
       "5          3843.2       3748.32       3530.31       3409.93       3233.91   \n",
       "..            ...           ...           ...           ...           ...   \n",
       "255       2853.48       2781.79       2803.77          2854       2864.83   \n",
       "257       1579.19       1667.17       1752.53       1852.96       1964.48   \n",
       "258       29303.7       29408.1       29729.2       29290.8            ..   \n",
       "259       2819.82       2858.53       3042.81       3025.23       2985.76   \n",
       "261       1119.15       785.338       694.152       643.164       632.909   \n",
       "\n",
       "    2019 [YR2019] 2020 [YR2020]  \n",
       "0         573.288            ..  \n",
       "1         5210.69            ..  \n",
       "3              ..            ..  \n",
       "4         45887.3            ..  \n",
       "5         3111.16            ..  \n",
       "..            ...           ...  \n",
       "255       2887.31            ..  \n",
       "257       2082.24            ..  \n",
       "258            ..            ..  \n",
       "259       2939.33            ..  \n",
       "261       631.488            ..  \n",
       "\n",
       "[144 rows x 63 columns]"
      ]
     },
     "execution_count": 23,
     "metadata": {},
     "output_type": "execute_result"
    }
   ],
   "source": [
    "#hmm... although null values were dropped\n",
    "#some missing values are not Null, they are represented by '..'\n",
    "gdp_df[gdp_df['1960 [YR1960]'] == '..']"
   ]
  },
  {
   "cell_type": "code",
   "execution_count": 24,
   "metadata": {},
   "outputs": [
    {
     "data": {
      "text/html": [
       "<div>\n",
       "<style scoped>\n",
       "    .dataframe tbody tr th:only-of-type {\n",
       "        vertical-align: middle;\n",
       "    }\n",
       "\n",
       "    .dataframe tbody tr th {\n",
       "        vertical-align: top;\n",
       "    }\n",
       "\n",
       "    .dataframe thead th {\n",
       "        text-align: right;\n",
       "    }\n",
       "</style>\n",
       "<table border=\"1\" class=\"dataframe\">\n",
       "  <thead>\n",
       "    <tr style=\"text-align: right;\">\n",
       "      <th></th>\n",
       "      <th>Country Name</th>\n",
       "      <th>Country Code</th>\n",
       "      <th>1960 [YR1960]</th>\n",
       "      <th>1961 [YR1961]</th>\n",
       "      <th>1962 [YR1962]</th>\n",
       "      <th>1963 [YR1963]</th>\n",
       "      <th>1964 [YR1964]</th>\n",
       "      <th>1965 [YR1965]</th>\n",
       "      <th>1966 [YR1966]</th>\n",
       "      <th>1967 [YR1967]</th>\n",
       "      <th>...</th>\n",
       "      <th>2011 [YR2011]</th>\n",
       "      <th>2012 [YR2012]</th>\n",
       "      <th>2013 [YR2013]</th>\n",
       "      <th>2014 [YR2014]</th>\n",
       "      <th>2015 [YR2015]</th>\n",
       "      <th>2016 [YR2016]</th>\n",
       "      <th>2017 [YR2017]</th>\n",
       "      <th>2018 [YR2018]</th>\n",
       "      <th>2019 [YR2019]</th>\n",
       "      <th>2020 [YR2020]</th>\n",
       "    </tr>\n",
       "  </thead>\n",
       "  <tbody>\n",
       "    <tr>\n",
       "      <th>0</th>\n",
       "      <td>Afghanistan</td>\n",
       "      <td>AFG</td>\n",
       "      <td>NaN</td>\n",
       "      <td>NaN</td>\n",
       "      <td>NaN</td>\n",
       "      <td>NaN</td>\n",
       "      <td>NaN</td>\n",
       "      <td>NaN</td>\n",
       "      <td>NaN</td>\n",
       "      <td>NaN</td>\n",
       "      <td>...</td>\n",
       "      <td>528.736648</td>\n",
       "      <td>576.190125</td>\n",
       "      <td>587.565090</td>\n",
       "      <td>583.656193</td>\n",
       "      <td>574.184114</td>\n",
       "      <td>571.073775</td>\n",
       "      <td>571.440691</td>\n",
       "      <td>564.609992</td>\n",
       "      <td>573.287551</td>\n",
       "      <td>NaN</td>\n",
       "    </tr>\n",
       "    <tr>\n",
       "      <th>1</th>\n",
       "      <td>Albania</td>\n",
       "      <td>ALB</td>\n",
       "      <td>NaN</td>\n",
       "      <td>NaN</td>\n",
       "      <td>NaN</td>\n",
       "      <td>NaN</td>\n",
       "      <td>NaN</td>\n",
       "      <td>NaN</td>\n",
       "      <td>NaN</td>\n",
       "      <td>NaN</td>\n",
       "      <td>...</td>\n",
       "      <td>4209.874801</td>\n",
       "      <td>4276.607904</td>\n",
       "      <td>4327.379960</td>\n",
       "      <td>4413.296891</td>\n",
       "      <td>4524.373086</td>\n",
       "      <td>4681.826563</td>\n",
       "      <td>4864.310616</td>\n",
       "      <td>5074.857222</td>\n",
       "      <td>5210.688290</td>\n",
       "      <td>NaN</td>\n",
       "    </tr>\n",
       "    <tr>\n",
       "      <th>2</th>\n",
       "      <td>Algeria</td>\n",
       "      <td>DZA</td>\n",
       "      <td>2480.951371</td>\n",
       "      <td>2090.754416</td>\n",
       "      <td>1638.221364</td>\n",
       "      <td>2146.242205</td>\n",
       "      <td>2214.161947</td>\n",
       "      <td>2289.910395</td>\n",
       "      <td>2120.454544</td>\n",
       "      <td>2255.793029</td>\n",
       "      <td>...</td>\n",
       "      <td>4523.248437</td>\n",
       "      <td>4586.655185</td>\n",
       "      <td>4621.590589</td>\n",
       "      <td>4700.640563</td>\n",
       "      <td>4775.873295</td>\n",
       "      <td>4828.626059</td>\n",
       "      <td>4792.387242</td>\n",
       "      <td>4753.510987</td>\n",
       "      <td>4699.763405</td>\n",
       "      <td>NaN</td>\n",
       "    </tr>\n",
       "    <tr>\n",
       "      <th>3</th>\n",
       "      <td>American Samoa</td>\n",
       "      <td>ASM</td>\n",
       "      <td>NaN</td>\n",
       "      <td>NaN</td>\n",
       "      <td>NaN</td>\n",
       "      <td>NaN</td>\n",
       "      <td>NaN</td>\n",
       "      <td>NaN</td>\n",
       "      <td>NaN</td>\n",
       "      <td>NaN</td>\n",
       "      <td>...</td>\n",
       "      <td>10360.509155</td>\n",
       "      <td>9921.806108</td>\n",
       "      <td>9640.344462</td>\n",
       "      <td>9717.829056</td>\n",
       "      <td>9850.565034</td>\n",
       "      <td>9589.979837</td>\n",
       "      <td>9048.182522</td>\n",
       "      <td>9271.712010</td>\n",
       "      <td>NaN</td>\n",
       "      <td>NaN</td>\n",
       "    </tr>\n",
       "    <tr>\n",
       "      <th>4</th>\n",
       "      <td>Andorra</td>\n",
       "      <td>AND</td>\n",
       "      <td>NaN</td>\n",
       "      <td>NaN</td>\n",
       "      <td>NaN</td>\n",
       "      <td>NaN</td>\n",
       "      <td>NaN</td>\n",
       "      <td>NaN</td>\n",
       "      <td>NaN</td>\n",
       "      <td>NaN</td>\n",
       "      <td>...</td>\n",
       "      <td>41191.785412</td>\n",
       "      <td>39769.561458</td>\n",
       "      <td>39143.689681</td>\n",
       "      <td>40914.728524</td>\n",
       "      <td>42140.961798</td>\n",
       "      <td>44107.956331</td>\n",
       "      <td>44430.744009</td>\n",
       "      <td>45133.713615</td>\n",
       "      <td>45887.302126</td>\n",
       "      <td>NaN</td>\n",
       "    </tr>\n",
       "  </tbody>\n",
       "</table>\n",
       "<p>5 rows × 63 columns</p>\n",
       "</div>"
      ],
      "text/plain": [
       "     Country Name Country Code  1960 [YR1960]  1961 [YR1961]  1962 [YR1962]  \\\n",
       "0     Afghanistan          AFG            NaN            NaN            NaN   \n",
       "1         Albania          ALB            NaN            NaN            NaN   \n",
       "2         Algeria          DZA    2480.951371    2090.754416    1638.221364   \n",
       "3  American Samoa          ASM            NaN            NaN            NaN   \n",
       "4         Andorra          AND            NaN            NaN            NaN   \n",
       "\n",
       "   1963 [YR1963]  1964 [YR1964]  1965 [YR1965]  1966 [YR1966]  1967 [YR1967]  \\\n",
       "0            NaN            NaN            NaN            NaN            NaN   \n",
       "1            NaN            NaN            NaN            NaN            NaN   \n",
       "2    2146.242205    2214.161947    2289.910395    2120.454544    2255.793029   \n",
       "3            NaN            NaN            NaN            NaN            NaN   \n",
       "4            NaN            NaN            NaN            NaN            NaN   \n",
       "\n",
       "   ...  2011 [YR2011]  2012 [YR2012]  2013 [YR2013]  2014 [YR2014]  \\\n",
       "0  ...     528.736648     576.190125     587.565090     583.656193   \n",
       "1  ...    4209.874801    4276.607904    4327.379960    4413.296891   \n",
       "2  ...    4523.248437    4586.655185    4621.590589    4700.640563   \n",
       "3  ...   10360.509155    9921.806108    9640.344462    9717.829056   \n",
       "4  ...   41191.785412   39769.561458   39143.689681   40914.728524   \n",
       "\n",
       "   2015 [YR2015]  2016 [YR2016]  2017 [YR2017]  2018 [YR2018]  2019 [YR2019]  \\\n",
       "0     574.184114     571.073775     571.440691     564.609992     573.287551   \n",
       "1    4524.373086    4681.826563    4864.310616    5074.857222    5210.688290   \n",
       "2    4775.873295    4828.626059    4792.387242    4753.510987    4699.763405   \n",
       "3    9850.565034    9589.979837    9048.182522    9271.712010            NaN   \n",
       "4   42140.961798   44107.956331   44430.744009   45133.713615   45887.302126   \n",
       "\n",
       "   2020 [YR2020]  \n",
       "0            NaN  \n",
       "1            NaN  \n",
       "2            NaN  \n",
       "3            NaN  \n",
       "4            NaN  \n",
       "\n",
       "[5 rows x 63 columns]"
      ]
     },
     "execution_count": 24,
     "metadata": {},
     "output_type": "execute_result"
    }
   ],
   "source": [
    "#replace .. with NaN\n",
    "gdp_df.replace('..',np.nan, inplace = True)\n",
    "#now we see the Null values are properly filled\n",
    "gdp_df.head()"
   ]
  },
  {
   "cell_type": "code",
   "execution_count": 25,
   "metadata": {},
   "outputs": [
    {
     "data": {
      "text/plain": [
       "<matplotlib.axes._subplots.AxesSubplot at 0x7efe9ababd30>"
      ]
     },
     "execution_count": 25,
     "metadata": {},
     "output_type": "execute_result"
    },
    {
     "data": {
      "image/png": "[encoded data removed]",
      "text/plain": [
       "<Figure size 1800x720 with 2 Axes>"
      ]
     },
     "metadata": {
      "needs_background": "light"
     },
     "output_type": "display_data"
    }
   ],
   "source": [
    "msno.matrix(gdp_df)"
   ]
  },
  {
   "cell_type": "code",
   "execution_count": 26,
   "metadata": {},
   "outputs": [],
   "source": [
    "gdp_df = gdp_df.set_index([\"Country Name\", \"Country Code\"]).T.reset_index().melt(id_vars=['index']).copy()"
   ]
  },
  {
   "cell_type": "code",
   "execution_count": 27,
   "metadata": {},
   "outputs": [],
   "source": [
    "#rename index to year\n",
    "gdp_df.rename({'index':'year'},axis = 1, inplace = True)\n",
    "#reformat year by removing [year] and turning it from an object to int\n",
    "gdp_df['year'] = gdp_df['year'].str.replace(r'\\[(\\w)+\\]','').astype(int)"
   ]
  },
  {
   "cell_type": "code",
   "execution_count": 28,
   "metadata": {},
   "outputs": [],
   "source": [
    "#drop the remaining missing values\n",
    "gdp_df.dropna(inplace = True)\n",
    "gdp_df.reset_index(inplace = True, drop = True)"
   ]
  },
  {
   "cell_type": "code",
   "execution_count": 29,
   "metadata": {},
   "outputs": [
    {
     "data": {
      "text/html": [
       "<div>\n",
       "<style scoped>\n",
       "    .dataframe tbody tr th:only-of-type {\n",
       "        vertical-align: middle;\n",
       "    }\n",
       "\n",
       "    .dataframe tbody tr th {\n",
       "        vertical-align: top;\n",
       "    }\n",
       "\n",
       "    .dataframe thead th {\n",
       "        text-align: right;\n",
       "    }\n",
       "</style>\n",
       "<table border=\"1\" class=\"dataframe\">\n",
       "  <thead>\n",
       "    <tr style=\"text-align: right;\">\n",
       "      <th></th>\n",
       "      <th>year</th>\n",
       "      <th>Country Name</th>\n",
       "      <th>Country Code</th>\n",
       "      <th>value</th>\n",
       "    </tr>\n",
       "  </thead>\n",
       "  <tbody>\n",
       "    <tr>\n",
       "      <th>0</th>\n",
       "      <td>2002</td>\n",
       "      <td>Afghanistan</td>\n",
       "      <td>AFG</td>\n",
       "      <td>330.303553</td>\n",
       "    </tr>\n",
       "    <tr>\n",
       "      <th>1</th>\n",
       "      <td>2003</td>\n",
       "      <td>Afghanistan</td>\n",
       "      <td>AFG</td>\n",
       "      <td>343.080890</td>\n",
       "    </tr>\n",
       "    <tr>\n",
       "      <th>2</th>\n",
       "      <td>2004</td>\n",
       "      <td>Afghanistan</td>\n",
       "      <td>AFG</td>\n",
       "      <td>333.216684</td>\n",
       "    </tr>\n",
       "    <tr>\n",
       "      <th>3</th>\n",
       "      <td>2005</td>\n",
       "      <td>Afghanistan</td>\n",
       "      <td>AFG</td>\n",
       "      <td>357.234720</td>\n",
       "    </tr>\n",
       "    <tr>\n",
       "      <th>4</th>\n",
       "      <td>2006</td>\n",
       "      <td>Afghanistan</td>\n",
       "      <td>AFG</td>\n",
       "      <td>365.284495</td>\n",
       "    </tr>\n",
       "  </tbody>\n",
       "</table>\n",
       "</div>"
      ],
      "text/plain": [
       "   year Country Name Country Code       value\n",
       "0  2002  Afghanistan          AFG  330.303553\n",
       "1  2003  Afghanistan          AFG  343.080890\n",
       "2  2004  Afghanistan          AFG  333.216684\n",
       "3  2005  Afghanistan          AFG  357.234720\n",
       "4  2006  Afghanistan          AFG  365.284495"
      ]
     },
     "execution_count": 29,
     "metadata": {},
     "output_type": "execute_result"
    }
   ],
   "source": [
    "gdp_df.head()"
   ]
  },
  {
   "cell_type": "markdown",
   "metadata": {},
   "source": [
    "<a id='b5_2'></a>   \n",
    "\n",
    "**View/Clean Big Five Personality**"
   ]
  },
  {
   "cell_type": "code",
   "execution_count": 30,
   "metadata": {},
   "outputs": [
    {
     "data": {
      "text/plain": [
       "1015341"
      ]
     },
     "execution_count": 30,
     "metadata": {},
     "output_type": "execute_result"
    }
   ],
   "source": [
    "b5_df.count()"
   ]
  },
  {
   "cell_type": "code",
   "execution_count": 31,
   "metadata": {},
   "outputs": [
    {
     "data": {
      "text/plain": [
       "110"
      ]
     },
     "execution_count": 31,
     "metadata": {},
     "output_type": "execute_result"
    }
   ],
   "source": [
    "len(b5_df.columns)"
   ]
  },
  {
   "cell_type": "code",
   "execution_count": 32,
   "metadata": {},
   "outputs": [],
   "source": [
    "#drop null values\n",
    "b5_df = b5_df.dropna()"
   ]
  },
  {
   "cell_type": "code",
   "execution_count": 33,
   "metadata": {},
   "outputs": [
    {
     "data": {
      "text/plain": [
       "[Row(EXT1='4', EXT2='1', EXT3='5', EXT4='2', EXT5='5', EXT6='1', EXT7='5', EXT8='2', EXT9='4', EXT10='1', EST1='1', EST2='4', EST3='4', EST4='2', EST5='2', EST6='2', EST7='2', EST8='2', EST9='3', EST10='2', AGR1='2', AGR2='5', AGR3='2', AGR4='4', AGR5='2', AGR6='3', AGR7='2', AGR8='4', AGR9='3', AGR10='4', CSN1='3', CSN2='4', CSN3='3', CSN4='2', CSN5='2', CSN6='4', CSN7='4', CSN8='2', CSN9='4', CSN10='4', OPN1='5', OPN2='1', OPN3='4', OPN4='1', OPN5='4', OPN6='1', OPN7='5', OPN8='3', OPN9='4', OPN10='5', EXT1_E='9419', EXT2_E='5491', EXT3_E='3959', EXT4_E='4821', EXT5_E='5611', EXT6_E='2756', EXT7_E='2388', EXT8_E='2113', EXT9_E='5900', EXT10_E='4110', EST1_E='6135', EST2_E='4150', EST3_E='5739', EST4_E='6364', EST5_E='3663', EST6_E='5070', EST7_E='5709', EST8_E='4285', EST9_E='2587', EST10_E='3997', AGR1_E='4750', AGR2_E='5475', AGR3_E='11641', AGR4_E='3115', AGR5_E='3207', AGR6_E='3260', AGR7_E='10235', AGR8_E='5897', AGR9_E='1758', AGR10_E='3081', CSN1_E='6602', CSN2_E='5457', CSN3_E='1569', CSN4_E='2129', CSN5_E='3762', CSN6_E='4420', CSN7_E='9382', CSN8_E='5286', CSN9_E='4983', CSN10_E='6339', OPN1_E='3146', OPN2_E='4067', OPN3_E='2959', OPN4_E='3411', OPN5_E='2170', OPN6_E='4920', OPN7_E='4436', OPN8_E='3116', OPN9_E='2992', OPN10_E='4354', dateload='2016-03-03 02:01:01', screenw='768', screenh='1024', introelapse='9', testelapse='234', endelapse='6', IPC='1', country='GB', lat_appx_lots_of_err='51.5448', long_appx_lots_of_err='0.1991')]"
      ]
     },
     "execution_count": 33,
     "metadata": {},
     "output_type": "execute_result"
    }
   ],
   "source": [
    "b5_df.take(1)"
   ]
  },
  {
   "cell_type": "markdown",
   "metadata": {},
   "source": [
    "<a id ='cc2'></a>  \n",
    "**View/Clean Country Codes**"
   ]
  },
  {
   "cell_type": "code",
   "execution_count": 35,
   "metadata": {},
   "outputs": [
    {
     "data": {
      "text/plain": [
       "Country         0\n",
       "Alpha-2 code    0\n",
       "Alpha-3 code    0\n",
       "Numeric         0\n",
       "dtype: int64"
      ]
     },
     "execution_count": 35,
     "metadata": {},
     "output_type": "execute_result"
    }
   ],
   "source": [
    "cc_df.isnull().sum()"
   ]
  },
  {
   "cell_type": "code",
   "execution_count": 34,
   "metadata": {},
   "outputs": [
    {
     "data": {
      "text/html": [
       "<div>\n",
       "<style scoped>\n",
       "    .dataframe tbody tr th:only-of-type {\n",
       "        vertical-align: middle;\n",
       "    }\n",
       "\n",
       "    .dataframe tbody tr th {\n",
       "        vertical-align: top;\n",
       "    }\n",
       "\n",
       "    .dataframe thead th {\n",
       "        text-align: right;\n",
       "    }\n",
       "</style>\n",
       "<table border=\"1\" class=\"dataframe\">\n",
       "  <thead>\n",
       "    <tr style=\"text-align: right;\">\n",
       "      <th></th>\n",
       "      <th>Country</th>\n",
       "      <th>Alpha-2 code</th>\n",
       "      <th>Alpha-3 code</th>\n",
       "      <th>Numeric</th>\n",
       "    </tr>\n",
       "  </thead>\n",
       "  <tbody>\n",
       "    <tr>\n",
       "      <th>1</th>\n",
       "      <td>Afghanistan</td>\n",
       "      <td>AF</td>\n",
       "      <td>AFG</td>\n",
       "      <td>004</td>\n",
       "    </tr>\n",
       "    <tr>\n",
       "      <th>2</th>\n",
       "      <td>Åland Islands</td>\n",
       "      <td>AX</td>\n",
       "      <td>ALA</td>\n",
       "      <td>248</td>\n",
       "    </tr>\n",
       "    <tr>\n",
       "      <th>3</th>\n",
       "      <td>Albania</td>\n",
       "      <td>AL</td>\n",
       "      <td>ALB</td>\n",
       "      <td>008</td>\n",
       "    </tr>\n",
       "    <tr>\n",
       "      <th>4</th>\n",
       "      <td>Algeria</td>\n",
       "      <td>DZ</td>\n",
       "      <td>DZA</td>\n",
       "      <td>012</td>\n",
       "    </tr>\n",
       "    <tr>\n",
       "      <th>5</th>\n",
       "      <td>American Samoa</td>\n",
       "      <td>AS</td>\n",
       "      <td>ASM</td>\n",
       "      <td>016</td>\n",
       "    </tr>\n",
       "  </tbody>\n",
       "</table>\n",
       "</div>"
      ],
      "text/plain": [
       "          Country Alpha-2 code Alpha-3 code Numeric\n",
       "1     Afghanistan           AF          AFG     004\n",
       "2   Åland Islands           AX          ALA     248\n",
       "3         Albania           AL          ALB     008\n",
       "4         Algeria           DZ          DZA     012\n",
       "5  American Samoa           AS          ASM     016"
      ]
     },
     "execution_count": 34,
     "metadata": {},
     "output_type": "execute_result"
    }
   ],
   "source": [
    "cc_df.head()"
   ]
  },
  {
   "cell_type": "markdown",
   "metadata": {},
   "source": [
    "<a id = 'define'></a>\n",
    "## 4. Define Database Schema\n",
    "* The model is shown below.\n",
    "* The data consists of 2 snowflake schemas. Where the 5 different personality traits are connected by an index to the scored personalities. The scored personalities are connected to country codes. The GDP and Weather are also connected to the country codes.\n",
    "* The Data Pipeline:\n",
    "> Extracting data from the original datasets, transforming the data such as ( feature engineering, and changing data types), then loading the finalized dataframes into a sqlite database."
   ]
  },
  {
   "cell_type": "code",
   "execution_count": 91,
   "metadata": {},
   "outputs": [
    {
     "data": {
      "image/jpeg": "[encoded data removed]",
      "text/plain": [
       "<IPython.core.display.Image object>"
      ]
     },
     "execution_count": 91,
     "metadata": {
      "image/jpeg": {
       "height": 100,
       "width": 800
      }
     },
     "output_type": "execute_result"
    }
   ],
   "source": [
    "Image('er (3).jpg',width=800, height=100)"
   ]
  },
  {
   "cell_type": "markdown",
   "metadata": {},
   "source": [
    "<a id ='etl'></a>\n",
    "## 4. Run Pipelines to Model the Data \n",
    "1. Extract data from the Big Five Personalities\n",
    "    * [Feature Engineering](#b5_2_1)  \n",
    "    > From the original dataset create 7 more.  \n",
    "    > 5 for each personality, 1 for calculated scores, 1 for meta data.\n",
    "2. [Create](#create) the tables that will be used in the database\n",
    "3. [Insert](#insert) the data that will be used in the data base"
   ]
  },
  {
   "cell_type": "markdown",
   "metadata": {},
   "source": [
    "<a id = 'b5_2_1'></a>\n",
    "**Feature engineering**\n",
    "* Create 5 different personality tables\n",
    "* Create an aggregated score for each personality table according to the formula provided\n",
    "* Create meta data table"
   ]
  },
  {
   "cell_type": "code",
   "execution_count": 36,
   "metadata": {},
   "outputs": [],
   "source": [
    "#create an index which will be used for the primary key\n",
    "b5_df = b5_df.select('*').withColumn(\"b5_index\", monotonically_increasing_id()+1)"
   ]
  },
  {
   "cell_type": "code",
   "execution_count": 37,
   "metadata": {},
   "outputs": [],
   "source": [
    "#create pyspark dataframe for each of the 5 personalities, and set the type to int\n",
    "def create_b5_df(df, cols):\n",
    "    new_df = df.select(*(col(c).cast('int').alias(c) for c in cols),'b5_index')\n",
    "    return new_df\n",
    "\n",
    "#get the column names for each personality group\n",
    "extraversion = b5_df.columns[0:10]\n",
    "neuroticism = b5_df.columns[10:20]\n",
    "agreeableness = b5_df.columns[20:30]\n",
    "conscientiousness = b5_df.columns[30:40]\n",
    "openness = b5_df.columns[40:50]\n",
    "\n",
    "extraversion_df = create_b5_df(b5_df,extraversion)\n",
    "neuroticism_df =  create_b5_df(b5_df,neuroticism)\n",
    "agreeableness_df = create_b5_df(b5_df,agreeableness)\n",
    "conscientiousness_df = create_b5_df(b5_df,conscientiousness)\n",
    "openness_df = create_b5_df(b5_df,openness)"
   ]
  },
  {
   "cell_type": "code",
   "execution_count": 38,
   "metadata": {},
   "outputs": [],
   "source": [
    "#calculate the personalities score for each individual personality\n",
    "#'https://openpsychometrics.org/printable/big-five-personality-test.pdf'\n",
    "\n",
    "b5_df.createOrReplaceTempView(\"b5\")\n",
    "b5_scored = spark.sql(\"\"\" \n",
    "            SELECT \n",
    "                b5_index,\n",
    "                20 + EXT1 - EXT2 + EXT3 - EXT4 + EXT5 - EXT6 + EXT7 - EXT8 + EXT9 - EXT10 as extraversion,\n",
    "                14 - AGR1 + AGR2 - AGR3 + AGR4 - AGR5 + AGR6 - AGR7 + AGR8 + AGR9 + AGR10 as agreeableness,\n",
    "                14 + CSN1 - CSN2 + CSN3 - CSN4 + CSN5 - CSN6 + CSN7 - CSN8 + CSN9 + CSN10 as conscientiousness,\n",
    "                38 - EST1 + EST2 - EST3 + EST4 - EST5 - EST6 - EST7 - EST8 - EST9 - EST10 as neuroticism,\n",
    "                8 +  OPN1 - OPN2 + OPN3 - OPN4 + OPN5 - OPN6 + OPN7 + OPN8 + OPN9 + OPN10 as openness \n",
    "            FROM b5\n",
    "            \"\"\")"
   ]
  },
  {
   "cell_type": "code",
   "execution_count": 39,
   "metadata": {},
   "outputs": [
    {
     "data": {
      "text/plain": [
       "[Row(b5_index=1, extraversion=36.0, agreeableness=29.0, conscientiousness=22.0, neuroticism=26.0, openness=35.0),\n",
       " Row(b5_index=2, extraversion=10.0, agreeableness=34.0, conscientiousness=27.0, neuroticism=25.0, openness=25.0),\n",
       " Row(b5_index=3, extraversion=15.0, agreeableness=32.0, conscientiousness=24.0, neuroticism=24.0, openness=31.0),\n",
       " Row(b5_index=4, extraversion=16.0, agreeableness=28.0, conscientiousness=15.0, neuroticism=21.0, openness=29.0),\n",
       " Row(b5_index=5, extraversion=19.0, agreeableness=36.0, conscientiousness=38.0, neuroticism=31.0, openness=38.0)]"
      ]
     },
     "execution_count": 39,
     "metadata": {},
     "output_type": "execute_result"
    }
   ],
   "source": [
    "b5_scored.take(5)"
   ]
  },
  {
   "cell_type": "code",
   "execution_count": 40,
   "metadata": {},
   "outputs": [],
   "source": [
    "b5_meta_data = ['dateload', 'screenw', 'screenh', 'introelapse', 'testelapse', 'endelapse','IPC', 'country']"
   ]
  },
  {
   "cell_type": "code",
   "execution_count": 41,
   "metadata": {},
   "outputs": [
    {
     "data": {
      "text/plain": [
       "[('dateload', 'string'),\n",
       " ('screenw', 'string'),\n",
       " ('screenh', 'string'),\n",
       " ('introelapse', 'string'),\n",
       " ('testelapse', 'string'),\n",
       " ('endelapse', 'string'),\n",
       " ('IPC', 'string'),\n",
       " ('country', 'string')]"
      ]
     },
     "execution_count": 41,
     "metadata": {},
     "output_type": "execute_result"
    }
   ],
   "source": [
    "b5_df.select(b5_meta_data).dtypes"
   ]
  },
  {
   "cell_type": "code",
   "execution_count": 42,
   "metadata": {},
   "outputs": [],
   "source": [
    "#correct the data types from string to int\n",
    "b5_meta_df = b5_df.select('b5_index', *(col(c).cast('int').alias(c) for c in b5_meta_data[:-1]), 'country')"
   ]
  },
  {
   "cell_type": "code",
   "execution_count": 43,
   "metadata": {},
   "outputs": [
    {
     "data": {
      "text/plain": [
       "[Row(b5_index=1, dateload=None, screenw=768, screenh=1024, introelapse=9, testelapse=234, endelapse=6, IPC=1, country='GB'),\n",
       " Row(b5_index=2, dateload=None, screenw=1360, screenh=768, introelapse=12, testelapse=179, endelapse=11, IPC=1, country='MY'),\n",
       " Row(b5_index=3, dateload=None, screenw=1366, screenh=768, introelapse=3, testelapse=186, endelapse=7, IPC=1, country='GB'),\n",
       " Row(b5_index=4, dateload=None, screenw=1920, screenh=1200, introelapse=186, testelapse=219, endelapse=7, IPC=1, country='GB'),\n",
       " Row(b5_index=5, dateload=None, screenw=1366, screenh=768, introelapse=8, testelapse=315, endelapse=17, IPC=2, country='KE')]"
      ]
     },
     "execution_count": 43,
     "metadata": {},
     "output_type": "execute_result"
    }
   ],
   "source": [
    "b5_meta_df.take(5)"
   ]
  },
  {
   "cell_type": "markdown",
   "metadata": {},
   "source": [
    "<a id = 'create'></a>\n",
    "**Creation**"
   ]
  },
  {
   "cell_type": "code",
   "execution_count": 44,
   "metadata": {},
   "outputs": [],
   "source": [
    "def create_table(table_name, col_names, query, db_name = 'b5_personality.db'):\n",
    "    \n",
    "    conn = sqlite3.connect(db_name)\n",
    "    c = conn.cursor()\n",
    "    \n",
    "    c.execute(query.format(table_name, (*[n.lower() for n in col_names])))\n",
    "    conn.commit()\n",
    "    conn.close()"
   ]
  },
  {
   "cell_type": "code",
   "execution_count": 45,
   "metadata": {},
   "outputs": [],
   "source": [
    "#create weather\n",
    "create_weather_table =\\\n",
    "    \"\"\"\n",
    "        CREATE TABLE IF NOT EXISTS {}\n",
    "        ({} timestamp, {} str, {} str, {} real, {} real)\n",
    "    \"\"\"\n",
    "create_table('weather', col_names = ['date','country','city','temp','temp_uncertainty'],\\\n",
    "             query = create_weather_table)"
   ]
  },
  {
   "cell_type": "code",
   "execution_count": 46,
   "metadata": {},
   "outputs": [],
   "source": [
    "#create gdp table\n",
    "create_gdp_table =\\\n",
    "    \"\"\"\n",
    "        CREATE TABLE IF NOT EXISTS {}\n",
    "        ({} str, {} str, {} int, {} real)\n",
    "    \"\"\"\n",
    "create_table('gdp_capita', col_names = ['country','country_code','year','gdp'],query = create_gdp_table)"
   ]
  },
  {
   "cell_type": "code",
   "execution_count": 47,
   "metadata": {},
   "outputs": [],
   "source": [
    "b5_table_names = ['openness','conscientiousness','extraversion','agreeableness','neuroticism']\n",
    "b5_col_names = [openness, conscientiousness, extraversion, agreeableness, neuroticism]\n",
    "\n",
    "#create personality tables\n",
    "create_personality_table =\\\n",
    "    \"\"\"\n",
    "        CREATE TABLE IF NOT EXISTS {}\n",
    "        (b5_index int, {} int,{} int,{} int,{} int,{} int,{} int,{} int,{} int,{} int,{} int) \n",
    "    \"\"\"\n",
    "for tn, cn in list(zip(b5_table_names, b5_col_names)):\n",
    "    create_table(tn,cn,create_personality_table)\n",
    "\n",
    "#create big_five table\n",
    "create_big_five_table =\\\n",
    "    \"\"\"\n",
    "        CREATE TABLE IF NOT EXISTS {}\n",
    "        (big5_index int, {} int, {} int, {} int, {} int, {} int)\n",
    "    \"\"\"\n",
    "create_table('big_five',col_names = b5_table_names, query= create_big_five_table)\n",
    "\n",
    "#create b5_meta_data\n",
    "create_b5_meta_table =\\\n",
    "    \"\"\"\n",
    "        CREATE TABLE IF NOT EXISTS {}\n",
    "        (big5_index int, {} datetime, {} int, {} int, {} int, {} int, {} int, {} int, {} str )\n",
    "    \"\"\"\n",
    "create_table('b5_meta_data', col_names = b5_meta_data, query = create_b5_meta_table)"
   ]
  },
  {
   "cell_type": "code",
   "execution_count": 48,
   "metadata": {},
   "outputs": [],
   "source": [
    "#create country_codes table\n",
    "create_cc_table = \\\n",
    "    \"\"\"\n",
    "        CREATE TABLE IF NOT EXISTS {}\n",
    "        ({} str, {} str, {} str, {} str)\n",
    "    \"\"\"\n",
    "create_table('country_codes', col_names = ['country_names','alpha_2','alpha_3','numeric'],query = create_cc_table)"
   ]
  },
  {
   "cell_type": "markdown",
   "metadata": {},
   "source": [
    "<a id ='insert'></a>\n",
    "**Insertion**"
   ]
  },
  {
   "cell_type": "code",
   "execution_count": 49,
   "metadata": {},
   "outputs": [],
   "source": [
    "def insert_to_sql(df, table_name, db_name = 'b5_personality.db'):\n",
    "    \n",
    "    conn = sqlite3.connect(db_name)    \n",
    "    df.to_sql(table_name, conn, if_exists = 'replace', index =False)\n",
    "    conn.close()"
   ]
  },
  {
   "cell_type": "code",
   "execution_count": 50,
   "metadata": {},
   "outputs": [],
   "source": [
    "weather_df = weather_df[['dt','Country','City', 'AverageTemperature','AverageTemperatureUncertainty']]\n",
    "\n",
    "#rename columns\n",
    "rename_weather_cols = {'dt':'date', 'Country':'country', 'City':'city',\\\n",
    "                       'AverageTemperature': 'temp','AverageTemperatureUncertainty': 'temp_uncertainty'}\n",
    "\n",
    "\n",
    "weather_df.rename(rename_weather_cols, axis = 1, inplace = True)\n",
    "\n",
    "#insert to sql\n",
    "insert_to_sql(weather_df, 'weather')"
   ]
  },
  {
   "cell_type": "code",
   "execution_count": 51,
   "metadata": {},
   "outputs": [],
   "source": [
    "rename_gdp_cols = {'Country Name':'country','Country Code':'country_code','value':'gdp'}\n",
    "gdp_df.rename(rename_gdp_cols,axis =1, inplace = True)\n",
    "insert_to_sql(gdp_df,'gdp_capita')"
   ]
  },
  {
   "cell_type": "code",
   "execution_count": 52,
   "metadata": {},
   "outputs": [],
   "source": [
    "rename_cc_cols = {'Country':'country_names', 'Alpha-2 code':'alpha_2', \\\n",
    "                  'Alpha-3 code':'alpha_3', 'Numeric':'numeric'}\n",
    "\n",
    "cc_df.rename(rename_cc_cols, axis = 1, inplace = True)\n",
    "\n",
    "#insert to sql\n",
    "insert_to_sql(cc_df, 'country_codes')"
   ]
  },
  {
   "cell_type": "code",
   "execution_count": 53,
   "metadata": {
    "scrolled": true
   },
   "outputs": [],
   "source": [
    "def col_name_2_lowercase(df):\n",
    "    for c in df.columns:\n",
    "        df = df.withColumnRenamed(c, c.lower())\n",
    "    return df"
   ]
  },
  {
   "cell_type": "code",
   "execution_count": 54,
   "metadata": {},
   "outputs": [],
   "source": [
    "openness_df = col_name_2_lowercase(openness_df)\n",
    "conscientiousness_df = col_name_2_lowercase(conscientiousness_df)\n",
    "extraversion_df = col_name_2_lowercase(extraversion_df)\n",
    "agreeableness_df = col_name_2_lowercase(agreeableness_df)\n",
    "neuroticism_df = col_name_2_lowercase(neuroticism_df)"
   ]
  },
  {
   "cell_type": "code",
   "execution_count": 83,
   "metadata": {
    "collapsed": true
   },
   "outputs": [
    {
     "ename": "KeyboardInterrupt",
     "evalue": "",
     "output_type": "error",
     "traceback": [
      "\u001b[0;31m---------------------------------------------------------------------------\u001b[0m",
      "\u001b[0;31mKeyboardInterrupt\u001b[0m                         Traceback (most recent call last)",
      "\u001b[0;32m<ipython-input-83-dda9f7cc43fe>\u001b[0m in \u001b[0;36m<module>\u001b[0;34m\u001b[0m\n\u001b[0;32m----> 1\u001b[0;31m \u001b[0minsert_to_sql\u001b[0m\u001b[0;34m(\u001b[0m\u001b[0mopenness_df\u001b[0m\u001b[0;34m.\u001b[0m\u001b[0mtoPandas\u001b[0m\u001b[0;34m(\u001b[0m\u001b[0;34m)\u001b[0m\u001b[0;34m,\u001b[0m\u001b[0;34m'openness'\u001b[0m\u001b[0;34m)\u001b[0m\u001b[0;34m\u001b[0m\u001b[0;34m\u001b[0m\u001b[0m\n\u001b[0m\u001b[1;32m      2\u001b[0m \u001b[0minsert_to_sql\u001b[0m\u001b[0;34m(\u001b[0m\u001b[0mconscientiousness_df\u001b[0m\u001b[0;34m.\u001b[0m\u001b[0mtoPandas\u001b[0m\u001b[0;34m(\u001b[0m\u001b[0;34m)\u001b[0m\u001b[0;34m,\u001b[0m \u001b[0;34m'conscientiousness'\u001b[0m\u001b[0;34m)\u001b[0m\u001b[0;34m\u001b[0m\u001b[0;34m\u001b[0m\u001b[0m\n\u001b[1;32m      3\u001b[0m \u001b[0minsert_to_sql\u001b[0m\u001b[0;34m(\u001b[0m\u001b[0mextraversion_df\u001b[0m\u001b[0;34m.\u001b[0m\u001b[0mtoPandas\u001b[0m\u001b[0;34m(\u001b[0m\u001b[0;34m)\u001b[0m\u001b[0;34m,\u001b[0m \u001b[0;34m'extraversion'\u001b[0m\u001b[0;34m)\u001b[0m\u001b[0;34m\u001b[0m\u001b[0;34m\u001b[0m\u001b[0m\n\u001b[1;32m      4\u001b[0m \u001b[0minsert_to_sql\u001b[0m\u001b[0;34m(\u001b[0m\u001b[0magreeableness_df\u001b[0m\u001b[0;34m.\u001b[0m\u001b[0mtoPandas\u001b[0m\u001b[0;34m(\u001b[0m\u001b[0;34m)\u001b[0m\u001b[0;34m,\u001b[0m \u001b[0;34m'agreeableness'\u001b[0m\u001b[0;34m)\u001b[0m\u001b[0;34m\u001b[0m\u001b[0;34m\u001b[0m\u001b[0m\n\u001b[1;32m      5\u001b[0m \u001b[0minsert_to_sql\u001b[0m\u001b[0;34m(\u001b[0m\u001b[0mneuroticism_df\u001b[0m\u001b[0;34m.\u001b[0m\u001b[0mtoPandas\u001b[0m\u001b[0;34m(\u001b[0m\u001b[0;34m)\u001b[0m\u001b[0;34m,\u001b[0m\u001b[0;34m'neuroticism'\u001b[0m\u001b[0;34m)\u001b[0m\u001b[0;34m\u001b[0m\u001b[0;34m\u001b[0m\u001b[0m\n",
      "\u001b[0;32m~/anaconda3/lib/python3.8/site-packages/pyspark/sql/pandas/conversion.py\u001b[0m in \u001b[0;36mtoPandas\u001b[0;34m(self)\u001b[0m\n\u001b[1;32m    136\u001b[0m \u001b[0;34m\u001b[0m\u001b[0m\n\u001b[1;32m    137\u001b[0m         \u001b[0;31m# Below is toPandas without Arrow optimization.\u001b[0m\u001b[0;34m\u001b[0m\u001b[0;34m\u001b[0m\u001b[0;34m\u001b[0m\u001b[0m\n\u001b[0;32m--> 138\u001b[0;31m         \u001b[0mpdf\u001b[0m \u001b[0;34m=\u001b[0m \u001b[0mpd\u001b[0m\u001b[0;34m.\u001b[0m\u001b[0mDataFrame\u001b[0m\u001b[0;34m.\u001b[0m\u001b[0mfrom_records\u001b[0m\u001b[0;34m(\u001b[0m\u001b[0mself\u001b[0m\u001b[0;34m.\u001b[0m\u001b[0mcollect\u001b[0m\u001b[0;34m(\u001b[0m\u001b[0;34m)\u001b[0m\u001b[0;34m,\u001b[0m \u001b[0mcolumns\u001b[0m\u001b[0;34m=\u001b[0m\u001b[0mself\u001b[0m\u001b[0;34m.\u001b[0m\u001b[0mcolumns\u001b[0m\u001b[0;34m)\u001b[0m\u001b[0;34m\u001b[0m\u001b[0;34m\u001b[0m\u001b[0m\n\u001b[0m\u001b[1;32m    139\u001b[0m         \u001b[0mcolumn_counter\u001b[0m \u001b[0;34m=\u001b[0m \u001b[0mCounter\u001b[0m\u001b[0;34m(\u001b[0m\u001b[0mself\u001b[0m\u001b[0;34m.\u001b[0m\u001b[0mcolumns\u001b[0m\u001b[0;34m)\u001b[0m\u001b[0;34m\u001b[0m\u001b[0;34m\u001b[0m\u001b[0m\n\u001b[1;32m    140\u001b[0m \u001b[0;34m\u001b[0m\u001b[0m\n",
      "\u001b[0;32m~/anaconda3/lib/python3.8/site-packages/pyspark/sql/dataframe.py\u001b[0m in \u001b[0;36mcollect\u001b[0;34m(self)\u001b[0m\n\u001b[1;32m    594\u001b[0m         \"\"\"\n\u001b[1;32m    595\u001b[0m         \u001b[0;32mwith\u001b[0m \u001b[0mSCCallSiteSync\u001b[0m\u001b[0;34m(\u001b[0m\u001b[0mself\u001b[0m\u001b[0;34m.\u001b[0m\u001b[0m_sc\u001b[0m\u001b[0;34m)\u001b[0m \u001b[0;32mas\u001b[0m \u001b[0mcss\u001b[0m\u001b[0;34m:\u001b[0m\u001b[0;34m\u001b[0m\u001b[0;34m\u001b[0m\u001b[0m\n\u001b[0;32m--> 596\u001b[0;31m             \u001b[0msock_info\u001b[0m \u001b[0;34m=\u001b[0m \u001b[0mself\u001b[0m\u001b[0;34m.\u001b[0m\u001b[0m_jdf\u001b[0m\u001b[0;34m.\u001b[0m\u001b[0mcollectToPython\u001b[0m\u001b[0;34m(\u001b[0m\u001b[0;34m)\u001b[0m\u001b[0;34m\u001b[0m\u001b[0;34m\u001b[0m\u001b[0m\n\u001b[0m\u001b[1;32m    597\u001b[0m         \u001b[0;32mreturn\u001b[0m \u001b[0mlist\u001b[0m\u001b[0;34m(\u001b[0m\u001b[0m_load_from_socket\u001b[0m\u001b[0;34m(\u001b[0m\u001b[0msock_info\u001b[0m\u001b[0;34m,\u001b[0m \u001b[0mBatchedSerializer\u001b[0m\u001b[0;34m(\u001b[0m\u001b[0mPickleSerializer\u001b[0m\u001b[0;34m(\u001b[0m\u001b[0;34m)\u001b[0m\u001b[0;34m)\u001b[0m\u001b[0;34m)\u001b[0m\u001b[0;34m)\u001b[0m\u001b[0;34m\u001b[0m\u001b[0;34m\u001b[0m\u001b[0m\n\u001b[1;32m    598\u001b[0m \u001b[0;34m\u001b[0m\u001b[0m\n",
      "\u001b[0;32m~/anaconda3/lib/python3.8/site-packages/py4j/java_gateway.py\u001b[0m in \u001b[0;36m__call__\u001b[0;34m(self, *args)\u001b[0m\n\u001b[1;32m   1301\u001b[0m             \u001b[0mproto\u001b[0m\u001b[0;34m.\u001b[0m\u001b[0mEND_COMMAND_PART\u001b[0m\u001b[0;34m\u001b[0m\u001b[0;34m\u001b[0m\u001b[0m\n\u001b[1;32m   1302\u001b[0m \u001b[0;34m\u001b[0m\u001b[0m\n\u001b[0;32m-> 1303\u001b[0;31m         \u001b[0manswer\u001b[0m \u001b[0;34m=\u001b[0m \u001b[0mself\u001b[0m\u001b[0;34m.\u001b[0m\u001b[0mgateway_client\u001b[0m\u001b[0;34m.\u001b[0m\u001b[0msend_command\u001b[0m\u001b[0;34m(\u001b[0m\u001b[0mcommand\u001b[0m\u001b[0;34m)\u001b[0m\u001b[0;34m\u001b[0m\u001b[0;34m\u001b[0m\u001b[0m\n\u001b[0m\u001b[1;32m   1304\u001b[0m         return_value = get_return_value(\n\u001b[1;32m   1305\u001b[0m             answer, self.gateway_client, self.target_id, self.name)\n",
      "\u001b[0;32m~/anaconda3/lib/python3.8/site-packages/py4j/java_gateway.py\u001b[0m in \u001b[0;36msend_command\u001b[0;34m(self, command, retry, binary)\u001b[0m\n\u001b[1;32m   1031\u001b[0m         \u001b[0mconnection\u001b[0m \u001b[0;34m=\u001b[0m \u001b[0mself\u001b[0m\u001b[0;34m.\u001b[0m\u001b[0m_get_connection\u001b[0m\u001b[0;34m(\u001b[0m\u001b[0;34m)\u001b[0m\u001b[0;34m\u001b[0m\u001b[0;34m\u001b[0m\u001b[0m\n\u001b[1;32m   1032\u001b[0m         \u001b[0;32mtry\u001b[0m\u001b[0;34m:\u001b[0m\u001b[0;34m\u001b[0m\u001b[0;34m\u001b[0m\u001b[0m\n\u001b[0;32m-> 1033\u001b[0;31m             \u001b[0mresponse\u001b[0m \u001b[0;34m=\u001b[0m \u001b[0mconnection\u001b[0m\u001b[0;34m.\u001b[0m\u001b[0msend_command\u001b[0m\u001b[0;34m(\u001b[0m\u001b[0mcommand\u001b[0m\u001b[0;34m)\u001b[0m\u001b[0;34m\u001b[0m\u001b[0;34m\u001b[0m\u001b[0m\n\u001b[0m\u001b[1;32m   1034\u001b[0m             \u001b[0;32mif\u001b[0m \u001b[0mbinary\u001b[0m\u001b[0;34m:\u001b[0m\u001b[0;34m\u001b[0m\u001b[0;34m\u001b[0m\u001b[0m\n\u001b[1;32m   1035\u001b[0m                 \u001b[0;32mreturn\u001b[0m \u001b[0mresponse\u001b[0m\u001b[0;34m,\u001b[0m \u001b[0mself\u001b[0m\u001b[0;34m.\u001b[0m\u001b[0m_create_connection_guard\u001b[0m\u001b[0;34m(\u001b[0m\u001b[0mconnection\u001b[0m\u001b[0;34m)\u001b[0m\u001b[0;34m\u001b[0m\u001b[0;34m\u001b[0m\u001b[0m\n",
      "\u001b[0;32m~/anaconda3/lib/python3.8/site-packages/py4j/java_gateway.py\u001b[0m in \u001b[0;36msend_command\u001b[0;34m(self, command)\u001b[0m\n\u001b[1;32m   1198\u001b[0m \u001b[0;34m\u001b[0m\u001b[0m\n\u001b[1;32m   1199\u001b[0m         \u001b[0;32mtry\u001b[0m\u001b[0;34m:\u001b[0m\u001b[0;34m\u001b[0m\u001b[0;34m\u001b[0m\u001b[0m\n\u001b[0;32m-> 1200\u001b[0;31m             \u001b[0manswer\u001b[0m \u001b[0;34m=\u001b[0m \u001b[0msmart_decode\u001b[0m\u001b[0;34m(\u001b[0m\u001b[0mself\u001b[0m\u001b[0;34m.\u001b[0m\u001b[0mstream\u001b[0m\u001b[0;34m.\u001b[0m\u001b[0mreadline\u001b[0m\u001b[0;34m(\u001b[0m\u001b[0;34m)\u001b[0m\u001b[0;34m[\u001b[0m\u001b[0;34m:\u001b[0m\u001b[0;34m-\u001b[0m\u001b[0;36m1\u001b[0m\u001b[0;34m]\u001b[0m\u001b[0;34m)\u001b[0m\u001b[0;34m\u001b[0m\u001b[0;34m\u001b[0m\u001b[0m\n\u001b[0m\u001b[1;32m   1201\u001b[0m             \u001b[0mlogger\u001b[0m\u001b[0;34m.\u001b[0m\u001b[0mdebug\u001b[0m\u001b[0;34m(\u001b[0m\u001b[0;34m\"Answer received: {0}\"\u001b[0m\u001b[0;34m.\u001b[0m\u001b[0mformat\u001b[0m\u001b[0;34m(\u001b[0m\u001b[0manswer\u001b[0m\u001b[0;34m)\u001b[0m\u001b[0;34m)\u001b[0m\u001b[0;34m\u001b[0m\u001b[0;34m\u001b[0m\u001b[0m\n\u001b[1;32m   1202\u001b[0m             \u001b[0;32mif\u001b[0m \u001b[0manswer\u001b[0m\u001b[0;34m.\u001b[0m\u001b[0mstartswith\u001b[0m\u001b[0;34m(\u001b[0m\u001b[0mproto\u001b[0m\u001b[0;34m.\u001b[0m\u001b[0mRETURN_MESSAGE\u001b[0m\u001b[0;34m)\u001b[0m\u001b[0;34m:\u001b[0m\u001b[0;34m\u001b[0m\u001b[0;34m\u001b[0m\u001b[0m\n",
      "\u001b[0;32m~/anaconda3/lib/python3.8/socket.py\u001b[0m in \u001b[0;36mreadinto\u001b[0;34m(self, b)\u001b[0m\n\u001b[1;32m    667\u001b[0m         \u001b[0;32mwhile\u001b[0m \u001b[0;32mTrue\u001b[0m\u001b[0;34m:\u001b[0m\u001b[0;34m\u001b[0m\u001b[0;34m\u001b[0m\u001b[0m\n\u001b[1;32m    668\u001b[0m             \u001b[0;32mtry\u001b[0m\u001b[0;34m:\u001b[0m\u001b[0;34m\u001b[0m\u001b[0;34m\u001b[0m\u001b[0m\n\u001b[0;32m--> 669\u001b[0;31m                 \u001b[0;32mreturn\u001b[0m \u001b[0mself\u001b[0m\u001b[0;34m.\u001b[0m\u001b[0m_sock\u001b[0m\u001b[0;34m.\u001b[0m\u001b[0mrecv_into\u001b[0m\u001b[0;34m(\u001b[0m\u001b[0mb\u001b[0m\u001b[0;34m)\u001b[0m\u001b[0;34m\u001b[0m\u001b[0;34m\u001b[0m\u001b[0m\n\u001b[0m\u001b[1;32m    670\u001b[0m             \u001b[0;32mexcept\u001b[0m \u001b[0mtimeout\u001b[0m\u001b[0;34m:\u001b[0m\u001b[0;34m\u001b[0m\u001b[0;34m\u001b[0m\u001b[0m\n\u001b[1;32m    671\u001b[0m                 \u001b[0mself\u001b[0m\u001b[0;34m.\u001b[0m\u001b[0m_timeout_occurred\u001b[0m \u001b[0;34m=\u001b[0m \u001b[0;32mTrue\u001b[0m\u001b[0;34m\u001b[0m\u001b[0;34m\u001b[0m\u001b[0m\n",
      "\u001b[0;31mKeyboardInterrupt\u001b[0m: "
     ]
    }
   ],
   "source": [
    "insert_to_sql(openness_df.toPandas(),'openness')\n",
    "insert_to_sql(conscientiousness_df.toPandas(), 'conscientiousness')\n",
    "insert_to_sql(extraversion_df.toPandas(), 'extraversion')\n",
    "insert_to_sql(agreeableness_df.toPandas(), 'agreeableness')\n",
    "insert_to_sql(neuroticism_df.toPandas(),'neuroticism')"
   ]
  },
  {
   "cell_type": "code",
   "execution_count": 57,
   "metadata": {},
   "outputs": [],
   "source": [
    "insert_to_sql(b5_scored.toPandas(),'big_five')\n",
    "insert_to_sql(b5_meta_df.toPandas(),'b5_meta_data')"
   ]
  },
  {
   "cell_type": "markdown",
   "metadata": {},
   "source": [
    "<a id = 'dq'></a>\n",
    "## 5. Data Quality Checks \n",
    "Explain the data quality checks you'll perform to ensure the pipeline ran as expected. These could include:\n",
    " * Integrity constraints on the relational database (e.g., unique key, data type, etc.)\n",
    " * Unit tests for the scripts to ensure they are doing the right thing\n",
    " * Source/Count checks to ensure completeness\n",
    " \n",
    "Run Quality Checks"
   ]
  },
  {
   "cell_type": "markdown",
   "metadata": {},
   "source": [
    "**Check count for quality check**"
   ]
  },
  {
   "cell_type": "code",
   "execution_count": 71,
   "metadata": {},
   "outputs": [],
   "source": [
    "def count_check(table_name, db ='b5_personality.db'):\n",
    "    conn = sqlite3.connect(db)\n",
    "    c = conn.cursor()\n",
    "    c.execute(\"SELECT COUNT(*) FROM {}\".format(table_name))\n",
    "    num_rows =  c.fetchall()[0][0]\n",
    "    conn.close()\n",
    "    return num_rows"
   ]
  },
  {
   "cell_type": "code",
   "execution_count": 73,
   "metadata": {},
   "outputs": [
    {
     "name": "stdout",
     "output_type": "stream",
     "text": [
      "True\n"
     ]
    }
   ],
   "source": [
    "#check to see if the b5_scored spark df has the same records as the table in the database.\n",
    "print(b5_scored.count() == count_check('big_five'))"
   ]
  },
  {
   "cell_type": "code",
   "execution_count": 75,
   "metadata": {},
   "outputs": [
    {
     "data": {
      "text/plain": [
       "[('b5_index', 'bigint'),\n",
       " ('extraversion', 'double'),\n",
       " ('agreeableness', 'double'),\n",
       " ('conscientiousness', 'double'),\n",
       " ('neuroticism', 'double'),\n",
       " ('openness', 'double')]"
      ]
     },
     "execution_count": 75,
     "metadata": {},
     "output_type": "execute_result"
    }
   ],
   "source": [
    "b5_scored.dtypes"
   ]
  },
  {
   "cell_type": "markdown",
   "metadata": {},
   "source": [
    "**datatype check**"
   ]
  },
  {
   "cell_type": "code",
   "execution_count": 76,
   "metadata": {},
   "outputs": [],
   "source": [
    "def dtype_check(table_name, db ='b5_personality.db'):\n",
    "    conn = sqlite3.connect(db)\n",
    "    c = conn.cursor()\n",
    "    c.execute(\"PRAGMA table_info({})\".format(table_name))\n",
    "    num_rows =  c.fetchall()\n",
    "    conn.close()\n",
    "    return num_rows"
   ]
  },
  {
   "cell_type": "code",
   "execution_count": 78,
   "metadata": {},
   "outputs": [
    {
     "data": {
      "text/plain": [
       "[(0, 'date', 'TIMESTAMP', 0, None, 0),\n",
       " (1, 'country', 'TEXT', 0, None, 0),\n",
       " (2, 'city', 'TEXT', 0, None, 0),\n",
       " (3, 'temp', 'REAL', 0, None, 0),\n",
       " (4, 'temp_uncertainty', 'REAL', 0, None, 0)]"
      ]
     },
     "execution_count": 78,
     "metadata": {},
     "output_type": "execute_result"
    }
   ],
   "source": [
    "dtype_check('weather')"
   ]
  },
  {
   "cell_type": "code",
   "execution_count": 81,
   "metadata": {},
   "outputs": [
    {
     "name": "stdout",
     "output_type": "stream",
     "text": [
      "<class 'pandas.core.frame.DataFrame'>\n",
      "RangeIndex: 8235082 entries, 0 to 8235081\n",
      "Data columns (total 5 columns):\n",
      " #   Column            Dtype         \n",
      "---  ------            -----         \n",
      " 0   date              datetime64[ns]\n",
      " 1   country           object        \n",
      " 2   city              object        \n",
      " 3   temp              float64       \n",
      " 4   temp_uncertainty  float64       \n",
      "dtypes: datetime64[ns](1), float64(2), object(2)\n",
      "memory usage: 314.1+ MB\n"
     ]
    }
   ],
   "source": [
    "weather_df.info()"
   ]
  },
  {
   "cell_type": "markdown",
   "metadata": {},
   "source": [
    "<a id = 'dictionary'></a>\n",
    "## 6. Data dictionary \n",
    "Create a data dictionary for your data model. For each field, provide a brief description of what the data is and where it came from. You can include the data dictionary in the notebook or in a separate file."
   ]
  },
  {
   "cell_type": "markdown",
   "metadata": {},
   "source": [
    "|Table Name| # of cols  |Description|\n",
    "|----------|------------|-------|\n",
    "|openness  | 11 |This trait features characteristics such as imagination and insight.|\n",
    "|conscientiousness|11|Standard features of this dimension include high levels of thoughtfulness, good impulse control, and goal-directed behaviors.|\n",
    "|extraversion|11| Characterized by excitability, sociability, talkativeness, assertiveness, and high amounts of emotional expressiveness.|\n",
    "|agreeableness|11|This personality dimension includes attributes such as trust, altruism, kindness, affection, and other prosocial behaviors.|\n",
    "|neuroticism|11|Traits characterized by sadness, moodiness, and emotional instability.|\n",
    "|big_five| 6| The sum of the scored values of each personality.|\n",
    "|b5_meta_data|9| Meta data collected for the big 5 personality survey.|\n",
    "|country_codes|4| Country Names and their respective codes.|\n",
    "|gdp_capita|4| The gdp per capita for different countries.|\n",
    "|weather|5| The average temperature for each city and country.|"
   ]
  },
  {
   "cell_type": "markdown",
   "metadata": {},
   "source": [
    "<a id='rationale'></a>\n",
    "## 7. Rationale\n",
    "\n",
    "1. Tools and Reasonings:\n",
    "    * pyspark was used to query and feature engineer the tables with more than 1 million records. \n",
    "    * sqlite was used as the database because it is easy to use and store locally. \n",
    "  -----\n",
    "2. How often should this be updated?:  \n",
    "\n",
    "    * The data should be updated once every year because we want to know the yearly weather patterns, and gdp per capita.    \n",
    "    ------\n",
    "    \n",
    "3. Write a description of how you would approach the problem differently under the following scenarios:\n",
    " * The data was increased by 100x:   \n",
    " \n",
    "     * If the data was increased by 100x, we will use pyspark for all the tables not just the ones with more than 1 million records.  \n",
    " * The data populates a dashboard that must be updated on a daily basis by 7am every day.\n",
    "     * If the data needs to be updated daily, then we should implement an airflow pipeline to automate the process.  \n",
    " * The database needed to be accessed by 100+ people.\n",
    "     * if the data needs to be accessed by 100+ people a different database should be used such as AWS redshift."
   ]
  },
  {
   "cell_type": "code",
   "execution_count": null,
   "metadata": {},
   "outputs": [],
   "source": []
  }
 ],
 "metadata": {
  "kernelspec": {
   "display_name": "Python 3",
   "language": "python",
   "name": "python3"
  },
  "language_info": {
   "codemirror_mode": {
    "name": "ipython",
    "version": 3
   },
   "file_extension": ".py",
   "mimetype": "text/x-python",
   "name": "python",
   "nbconvert_exporter": "python",
   "pygments_lexer": "ipython3",
   "version": "3.8.3"
  }
 },
 "nbformat": 4,
 "nbformat_minor": 2
}
